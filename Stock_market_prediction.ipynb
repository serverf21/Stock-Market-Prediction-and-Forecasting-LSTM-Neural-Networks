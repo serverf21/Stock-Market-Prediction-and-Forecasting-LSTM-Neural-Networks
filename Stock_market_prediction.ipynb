{
  "nbformat": 4,
  "nbformat_minor": 0,
  "metadata": {
    "colab": {
      "name": "Stock market prediction.ipynb",
      "provenance": [],
      "collapsed_sections": [],
      "authorship_tag": "ABX9TyPOmT3Ee0zi2YT7bRCSvHG0",
      "include_colab_link": true
    },
    "kernelspec": {
      "name": "python3",
      "display_name": "Python 3"
    },
    "language_info": {
      "name": "python"
    }
  },
  "cells": [
    {
      "cell_type": "markdown",
      "metadata": {
        "id": "view-in-github",
        "colab_type": "text"
      },
      "source": [
        "<a href=\"https://colab.research.google.com/github/serverf21/Stock-Market-Prediction-and-Forecasting-LSTM-Neural-Networks/blob/main/Stock_market_prediction.ipynb\" target=\"_parent\"><img src=\"https://colab.research.google.com/assets/colab-badge.svg\" alt=\"Open In Colab\"/></a>"
      ]
    },
    {
      "cell_type": "markdown",
      "source": [
        "**Stock market prediction and forecasting using Stacked LSTM (Long Short-term memory)**\n",
        "\n",
        "Steps to perform\n",
        "\n",
        "1. Collect the stock data\n",
        "2. Preprocess the data (Train and Test)\n",
        "3. Create a stacked LSTM model\n",
        "4. Predict the test data and plot the output\n",
        "5. Predict the future 30 days and plot the output"
      ],
      "metadata": {
        "id": "LqJE89oktfZo"
      }
    },
    {
      "cell_type": "code",
      "source": [
        "##Keras and tensorflow > 2.0"
      ],
      "metadata": {
        "id": "6g9m_JWptr2G"
      },
      "execution_count": null,
      "outputs": []
    },
    {
      "cell_type": "code",
      "source": [
        "import pandas_datareader as pdr\n",
        "import os"
      ],
      "metadata": {
        "id": "gBqEec11tldN"
      },
      "execution_count": 1,
      "outputs": []
    },
    {
      "cell_type": "code",
      "execution_count": 2,
      "metadata": {
        "colab": {
          "base_uri": "https://localhost:8080/"
        },
        "id": "kv7BCFJ-tbI2",
        "outputId": "9123c483-8047-42c3-83be-27712b210a08"
      },
      "outputs": [
        {
          "output_type": "stream",
          "name": "stderr",
          "text": [
            "/usr/local/lib/python3.7/dist-packages/pandas_datareader/tiingo.py:234: FutureWarning: In a future version of pandas all arguments of concat except for the argument 'objs' will be keyword-only\n",
            "  return pd.concat(dfs, self._concat_axis)\n"
          ]
        }
      ],
      "source": [
        "key = '28cc5c87e6096b18a22217325fbb5004e713b2df'\n",
        "df = pdr.get_data_tiingo('GOOG', api_key=key)"
      ]
    },
    {
      "cell_type": "code",
      "source": [
        "#Source the key from Tiingo website by using free account\n",
        "df.to_csv('GOOG.csv')\n",
        "import pandas as pd\n",
        "df=pd.read_csv('GOOG.csv')"
      ],
      "metadata": {
        "id": "8YvU99n3u_gy"
      },
      "execution_count": 3,
      "outputs": []
    },
    {
      "cell_type": "code",
      "source": [
        "df.head()"
      ],
      "metadata": {
        "colab": {
          "base_uri": "https://localhost:8080/",
          "height": 206
        },
        "id": "t-jBtRGtwXrb",
        "outputId": "3738d45d-9aa6-4903-e73a-6c9587417dbb"
      },
      "execution_count": 4,
      "outputs": [
        {
          "output_type": "execute_result",
          "data": {
            "text/plain": [
              "  symbol                       date   close     high      low    open  \\\n",
              "0   GOOG  2017-04-05 00:00:00+00:00  831.41  842.450  830.720  835.51   \n",
              "1   GOOG  2017-04-06 00:00:00+00:00  827.88  836.390  826.460  832.40   \n",
              "2   GOOG  2017-04-07 00:00:00+00:00  824.67  828.485  820.513  827.96   \n",
              "3   GOOG  2017-04-10 00:00:00+00:00  824.73  829.350  823.770  825.39   \n",
              "4   GOOG  2017-04-11 00:00:00+00:00  823.35  827.427  817.020  824.71   \n",
              "\n",
              "    volume  adjClose  adjHigh   adjLow  adjOpen  adjVolume  divCash  \\\n",
              "0  1555328    831.41  842.450  830.720   835.51    1555328      0.0   \n",
              "1  1254433    827.88  836.390  826.460   832.40    1254433      0.0   \n",
              "2  1056692    824.67  828.485  820.513   827.96    1056692      0.0   \n",
              "3   978905    824.73  829.350  823.770   825.39     978905      0.0   \n",
              "4  1079732    823.35  827.427  817.020   824.71    1079732      0.0   \n",
              "\n",
              "   splitFactor  \n",
              "0          1.0  \n",
              "1          1.0  \n",
              "2          1.0  \n",
              "3          1.0  \n",
              "4          1.0  "
            ],
            "text/html": [
              "\n",
              "  <div id=\"df-e506afe6-0f02-4184-9cde-2039a38f353a\">\n",
              "    <div class=\"colab-df-container\">\n",
              "      <div>\n",
              "<style scoped>\n",
              "    .dataframe tbody tr th:only-of-type {\n",
              "        vertical-align: middle;\n",
              "    }\n",
              "\n",
              "    .dataframe tbody tr th {\n",
              "        vertical-align: top;\n",
              "    }\n",
              "\n",
              "    .dataframe thead th {\n",
              "        text-align: right;\n",
              "    }\n",
              "</style>\n",
              "<table border=\"1\" class=\"dataframe\">\n",
              "  <thead>\n",
              "    <tr style=\"text-align: right;\">\n",
              "      <th></th>\n",
              "      <th>symbol</th>\n",
              "      <th>date</th>\n",
              "      <th>close</th>\n",
              "      <th>high</th>\n",
              "      <th>low</th>\n",
              "      <th>open</th>\n",
              "      <th>volume</th>\n",
              "      <th>adjClose</th>\n",
              "      <th>adjHigh</th>\n",
              "      <th>adjLow</th>\n",
              "      <th>adjOpen</th>\n",
              "      <th>adjVolume</th>\n",
              "      <th>divCash</th>\n",
              "      <th>splitFactor</th>\n",
              "    </tr>\n",
              "  </thead>\n",
              "  <tbody>\n",
              "    <tr>\n",
              "      <th>0</th>\n",
              "      <td>GOOG</td>\n",
              "      <td>2017-04-05 00:00:00+00:00</td>\n",
              "      <td>831.41</td>\n",
              "      <td>842.450</td>\n",
              "      <td>830.720</td>\n",
              "      <td>835.51</td>\n",
              "      <td>1555328</td>\n",
              "      <td>831.41</td>\n",
              "      <td>842.450</td>\n",
              "      <td>830.720</td>\n",
              "      <td>835.51</td>\n",
              "      <td>1555328</td>\n",
              "      <td>0.0</td>\n",
              "      <td>1.0</td>\n",
              "    </tr>\n",
              "    <tr>\n",
              "      <th>1</th>\n",
              "      <td>GOOG</td>\n",
              "      <td>2017-04-06 00:00:00+00:00</td>\n",
              "      <td>827.88</td>\n",
              "      <td>836.390</td>\n",
              "      <td>826.460</td>\n",
              "      <td>832.40</td>\n",
              "      <td>1254433</td>\n",
              "      <td>827.88</td>\n",
              "      <td>836.390</td>\n",
              "      <td>826.460</td>\n",
              "      <td>832.40</td>\n",
              "      <td>1254433</td>\n",
              "      <td>0.0</td>\n",
              "      <td>1.0</td>\n",
              "    </tr>\n",
              "    <tr>\n",
              "      <th>2</th>\n",
              "      <td>GOOG</td>\n",
              "      <td>2017-04-07 00:00:00+00:00</td>\n",
              "      <td>824.67</td>\n",
              "      <td>828.485</td>\n",
              "      <td>820.513</td>\n",
              "      <td>827.96</td>\n",
              "      <td>1056692</td>\n",
              "      <td>824.67</td>\n",
              "      <td>828.485</td>\n",
              "      <td>820.513</td>\n",
              "      <td>827.96</td>\n",
              "      <td>1056692</td>\n",
              "      <td>0.0</td>\n",
              "      <td>1.0</td>\n",
              "    </tr>\n",
              "    <tr>\n",
              "      <th>3</th>\n",
              "      <td>GOOG</td>\n",
              "      <td>2017-04-10 00:00:00+00:00</td>\n",
              "      <td>824.73</td>\n",
              "      <td>829.350</td>\n",
              "      <td>823.770</td>\n",
              "      <td>825.39</td>\n",
              "      <td>978905</td>\n",
              "      <td>824.73</td>\n",
              "      <td>829.350</td>\n",
              "      <td>823.770</td>\n",
              "      <td>825.39</td>\n",
              "      <td>978905</td>\n",
              "      <td>0.0</td>\n",
              "      <td>1.0</td>\n",
              "    </tr>\n",
              "    <tr>\n",
              "      <th>4</th>\n",
              "      <td>GOOG</td>\n",
              "      <td>2017-04-11 00:00:00+00:00</td>\n",
              "      <td>823.35</td>\n",
              "      <td>827.427</td>\n",
              "      <td>817.020</td>\n",
              "      <td>824.71</td>\n",
              "      <td>1079732</td>\n",
              "      <td>823.35</td>\n",
              "      <td>827.427</td>\n",
              "      <td>817.020</td>\n",
              "      <td>824.71</td>\n",
              "      <td>1079732</td>\n",
              "      <td>0.0</td>\n",
              "      <td>1.0</td>\n",
              "    </tr>\n",
              "  </tbody>\n",
              "</table>\n",
              "</div>\n",
              "      <button class=\"colab-df-convert\" onclick=\"convertToInteractive('df-e506afe6-0f02-4184-9cde-2039a38f353a')\"\n",
              "              title=\"Convert this dataframe to an interactive table.\"\n",
              "              style=\"display:none;\">\n",
              "        \n",
              "  <svg xmlns=\"http://www.w3.org/2000/svg\" height=\"24px\"viewBox=\"0 0 24 24\"\n",
              "       width=\"24px\">\n",
              "    <path d=\"M0 0h24v24H0V0z\" fill=\"none\"/>\n",
              "    <path d=\"M18.56 5.44l.94 2.06.94-2.06 2.06-.94-2.06-.94-.94-2.06-.94 2.06-2.06.94zm-11 1L8.5 8.5l.94-2.06 2.06-.94-2.06-.94L8.5 2.5l-.94 2.06-2.06.94zm10 10l.94 2.06.94-2.06 2.06-.94-2.06-.94-.94-2.06-.94 2.06-2.06.94z\"/><path d=\"M17.41 7.96l-1.37-1.37c-.4-.4-.92-.59-1.43-.59-.52 0-1.04.2-1.43.59L10.3 9.45l-7.72 7.72c-.78.78-.78 2.05 0 2.83L4 21.41c.39.39.9.59 1.41.59.51 0 1.02-.2 1.41-.59l7.78-7.78 2.81-2.81c.8-.78.8-2.07 0-2.86zM5.41 20L4 18.59l7.72-7.72 1.47 1.35L5.41 20z\"/>\n",
              "  </svg>\n",
              "      </button>\n",
              "      \n",
              "  <style>\n",
              "    .colab-df-container {\n",
              "      display:flex;\n",
              "      flex-wrap:wrap;\n",
              "      gap: 12px;\n",
              "    }\n",
              "\n",
              "    .colab-df-convert {\n",
              "      background-color: #E8F0FE;\n",
              "      border: none;\n",
              "      border-radius: 50%;\n",
              "      cursor: pointer;\n",
              "      display: none;\n",
              "      fill: #1967D2;\n",
              "      height: 32px;\n",
              "      padding: 0 0 0 0;\n",
              "      width: 32px;\n",
              "    }\n",
              "\n",
              "    .colab-df-convert:hover {\n",
              "      background-color: #E2EBFA;\n",
              "      box-shadow: 0px 1px 2px rgba(60, 64, 67, 0.3), 0px 1px 3px 1px rgba(60, 64, 67, 0.15);\n",
              "      fill: #174EA6;\n",
              "    }\n",
              "\n",
              "    [theme=dark] .colab-df-convert {\n",
              "      background-color: #3B4455;\n",
              "      fill: #D2E3FC;\n",
              "    }\n",
              "\n",
              "    [theme=dark] .colab-df-convert:hover {\n",
              "      background-color: #434B5C;\n",
              "      box-shadow: 0px 1px 3px 1px rgba(0, 0, 0, 0.15);\n",
              "      filter: drop-shadow(0px 1px 2px rgba(0, 0, 0, 0.3));\n",
              "      fill: #FFFFFF;\n",
              "    }\n",
              "  </style>\n",
              "\n",
              "      <script>\n",
              "        const buttonEl =\n",
              "          document.querySelector('#df-e506afe6-0f02-4184-9cde-2039a38f353a button.colab-df-convert');\n",
              "        buttonEl.style.display =\n",
              "          google.colab.kernel.accessAllowed ? 'block' : 'none';\n",
              "\n",
              "        async function convertToInteractive(key) {\n",
              "          const element = document.querySelector('#df-e506afe6-0f02-4184-9cde-2039a38f353a');\n",
              "          const dataTable =\n",
              "            await google.colab.kernel.invokeFunction('convertToInteractive',\n",
              "                                                     [key], {});\n",
              "          if (!dataTable) return;\n",
              "\n",
              "          const docLinkHtml = 'Like what you see? Visit the ' +\n",
              "            '<a target=\"_blank\" href=https://colab.research.google.com/notebooks/data_table.ipynb>data table notebook</a>'\n",
              "            + ' to learn more about interactive tables.';\n",
              "          element.innerHTML = '';\n",
              "          dataTable['output_type'] = 'display_data';\n",
              "          await google.colab.output.renderOutput(dataTable, element);\n",
              "          const docLink = document.createElement('div');\n",
              "          docLink.innerHTML = docLinkHtml;\n",
              "          element.appendChild(docLink);\n",
              "        }\n",
              "      </script>\n",
              "    </div>\n",
              "  </div>\n",
              "  "
            ]
          },
          "metadata": {},
          "execution_count": 4
        }
      ]
    },
    {
      "cell_type": "code",
      "source": [
        "#head has data starting from April 2017\n",
        "df.tail()"
      ],
      "metadata": {
        "colab": {
          "base_uri": "https://localhost:8080/",
          "height": 250
        },
        "id": "Awcqz_LLwlRu",
        "outputId": "152f3365-f680-4021-b425-ac55b9d6b285"
      },
      "execution_count": 5,
      "outputs": [
        {
          "output_type": "execute_result",
          "data": {
            "text/plain": [
              "     symbol                       date    close     high        low     open  \\\n",
              "1253   GOOG  2022-03-28 00:00:00+00:00  2839.00  2839.53  2796.5627  2813.69   \n",
              "1254   GOOG  2022-03-29 00:00:00+00:00  2865.00  2883.25  2849.6800  2863.21   \n",
              "1255   GOOG  2022-03-30 00:00:00+00:00  2852.89  2869.61  2843.3600  2857.40   \n",
              "1256   GOOG  2022-03-31 00:00:00+00:00  2792.99  2852.89  2792.3800  2848.97   \n",
              "1257   GOOG  2022-04-01 00:00:00+00:00  2814.00  2819.00  2775.9400  2800.20   \n",
              "\n",
              "       volume  adjClose  adjHigh     adjLow  adjOpen  adjVolume  divCash  \\\n",
              "1253  1188654   2839.00  2839.53  2796.5627  2813.69    1188654      0.0   \n",
              "1254  1433921   2865.00  2883.25  2849.6800  2863.21    1433921      0.0   \n",
              "1255  1052319   2852.89  2869.61  2843.3600  2857.40    1052319      0.0   \n",
              "1256  1475816   2792.99  2852.89  2792.3800  2848.97    1475816      0.0   \n",
              "1257  1174001   2814.00  2819.00  2775.9400  2800.20    1174001      0.0   \n",
              "\n",
              "      splitFactor  \n",
              "1253          1.0  \n",
              "1254          1.0  \n",
              "1255          1.0  \n",
              "1256          1.0  \n",
              "1257          1.0  "
            ],
            "text/html": [
              "\n",
              "  <div id=\"df-78c4fddd-4b35-43ff-94f7-188c7bde1d1d\">\n",
              "    <div class=\"colab-df-container\">\n",
              "      <div>\n",
              "<style scoped>\n",
              "    .dataframe tbody tr th:only-of-type {\n",
              "        vertical-align: middle;\n",
              "    }\n",
              "\n",
              "    .dataframe tbody tr th {\n",
              "        vertical-align: top;\n",
              "    }\n",
              "\n",
              "    .dataframe thead th {\n",
              "        text-align: right;\n",
              "    }\n",
              "</style>\n",
              "<table border=\"1\" class=\"dataframe\">\n",
              "  <thead>\n",
              "    <tr style=\"text-align: right;\">\n",
              "      <th></th>\n",
              "      <th>symbol</th>\n",
              "      <th>date</th>\n",
              "      <th>close</th>\n",
              "      <th>high</th>\n",
              "      <th>low</th>\n",
              "      <th>open</th>\n",
              "      <th>volume</th>\n",
              "      <th>adjClose</th>\n",
              "      <th>adjHigh</th>\n",
              "      <th>adjLow</th>\n",
              "      <th>adjOpen</th>\n",
              "      <th>adjVolume</th>\n",
              "      <th>divCash</th>\n",
              "      <th>splitFactor</th>\n",
              "    </tr>\n",
              "  </thead>\n",
              "  <tbody>\n",
              "    <tr>\n",
              "      <th>1253</th>\n",
              "      <td>GOOG</td>\n",
              "      <td>2022-03-28 00:00:00+00:00</td>\n",
              "      <td>2839.00</td>\n",
              "      <td>2839.53</td>\n",
              "      <td>2796.5627</td>\n",
              "      <td>2813.69</td>\n",
              "      <td>1188654</td>\n",
              "      <td>2839.00</td>\n",
              "      <td>2839.53</td>\n",
              "      <td>2796.5627</td>\n",
              "      <td>2813.69</td>\n",
              "      <td>1188654</td>\n",
              "      <td>0.0</td>\n",
              "      <td>1.0</td>\n",
              "    </tr>\n",
              "    <tr>\n",
              "      <th>1254</th>\n",
              "      <td>GOOG</td>\n",
              "      <td>2022-03-29 00:00:00+00:00</td>\n",
              "      <td>2865.00</td>\n",
              "      <td>2883.25</td>\n",
              "      <td>2849.6800</td>\n",
              "      <td>2863.21</td>\n",
              "      <td>1433921</td>\n",
              "      <td>2865.00</td>\n",
              "      <td>2883.25</td>\n",
              "      <td>2849.6800</td>\n",
              "      <td>2863.21</td>\n",
              "      <td>1433921</td>\n",
              "      <td>0.0</td>\n",
              "      <td>1.0</td>\n",
              "    </tr>\n",
              "    <tr>\n",
              "      <th>1255</th>\n",
              "      <td>GOOG</td>\n",
              "      <td>2022-03-30 00:00:00+00:00</td>\n",
              "      <td>2852.89</td>\n",
              "      <td>2869.61</td>\n",
              "      <td>2843.3600</td>\n",
              "      <td>2857.40</td>\n",
              "      <td>1052319</td>\n",
              "      <td>2852.89</td>\n",
              "      <td>2869.61</td>\n",
              "      <td>2843.3600</td>\n",
              "      <td>2857.40</td>\n",
              "      <td>1052319</td>\n",
              "      <td>0.0</td>\n",
              "      <td>1.0</td>\n",
              "    </tr>\n",
              "    <tr>\n",
              "      <th>1256</th>\n",
              "      <td>GOOG</td>\n",
              "      <td>2022-03-31 00:00:00+00:00</td>\n",
              "      <td>2792.99</td>\n",
              "      <td>2852.89</td>\n",
              "      <td>2792.3800</td>\n",
              "      <td>2848.97</td>\n",
              "      <td>1475816</td>\n",
              "      <td>2792.99</td>\n",
              "      <td>2852.89</td>\n",
              "      <td>2792.3800</td>\n",
              "      <td>2848.97</td>\n",
              "      <td>1475816</td>\n",
              "      <td>0.0</td>\n",
              "      <td>1.0</td>\n",
              "    </tr>\n",
              "    <tr>\n",
              "      <th>1257</th>\n",
              "      <td>GOOG</td>\n",
              "      <td>2022-04-01 00:00:00+00:00</td>\n",
              "      <td>2814.00</td>\n",
              "      <td>2819.00</td>\n",
              "      <td>2775.9400</td>\n",
              "      <td>2800.20</td>\n",
              "      <td>1174001</td>\n",
              "      <td>2814.00</td>\n",
              "      <td>2819.00</td>\n",
              "      <td>2775.9400</td>\n",
              "      <td>2800.20</td>\n",
              "      <td>1174001</td>\n",
              "      <td>0.0</td>\n",
              "      <td>1.0</td>\n",
              "    </tr>\n",
              "  </tbody>\n",
              "</table>\n",
              "</div>\n",
              "      <button class=\"colab-df-convert\" onclick=\"convertToInteractive('df-78c4fddd-4b35-43ff-94f7-188c7bde1d1d')\"\n",
              "              title=\"Convert this dataframe to an interactive table.\"\n",
              "              style=\"display:none;\">\n",
              "        \n",
              "  <svg xmlns=\"http://www.w3.org/2000/svg\" height=\"24px\"viewBox=\"0 0 24 24\"\n",
              "       width=\"24px\">\n",
              "    <path d=\"M0 0h24v24H0V0z\" fill=\"none\"/>\n",
              "    <path d=\"M18.56 5.44l.94 2.06.94-2.06 2.06-.94-2.06-.94-.94-2.06-.94 2.06-2.06.94zm-11 1L8.5 8.5l.94-2.06 2.06-.94-2.06-.94L8.5 2.5l-.94 2.06-2.06.94zm10 10l.94 2.06.94-2.06 2.06-.94-2.06-.94-.94-2.06-.94 2.06-2.06.94z\"/><path d=\"M17.41 7.96l-1.37-1.37c-.4-.4-.92-.59-1.43-.59-.52 0-1.04.2-1.43.59L10.3 9.45l-7.72 7.72c-.78.78-.78 2.05 0 2.83L4 21.41c.39.39.9.59 1.41.59.51 0 1.02-.2 1.41-.59l7.78-7.78 2.81-2.81c.8-.78.8-2.07 0-2.86zM5.41 20L4 18.59l7.72-7.72 1.47 1.35L5.41 20z\"/>\n",
              "  </svg>\n",
              "      </button>\n",
              "      \n",
              "  <style>\n",
              "    .colab-df-container {\n",
              "      display:flex;\n",
              "      flex-wrap:wrap;\n",
              "      gap: 12px;\n",
              "    }\n",
              "\n",
              "    .colab-df-convert {\n",
              "      background-color: #E8F0FE;\n",
              "      border: none;\n",
              "      border-radius: 50%;\n",
              "      cursor: pointer;\n",
              "      display: none;\n",
              "      fill: #1967D2;\n",
              "      height: 32px;\n",
              "      padding: 0 0 0 0;\n",
              "      width: 32px;\n",
              "    }\n",
              "\n",
              "    .colab-df-convert:hover {\n",
              "      background-color: #E2EBFA;\n",
              "      box-shadow: 0px 1px 2px rgba(60, 64, 67, 0.3), 0px 1px 3px 1px rgba(60, 64, 67, 0.15);\n",
              "      fill: #174EA6;\n",
              "    }\n",
              "\n",
              "    [theme=dark] .colab-df-convert {\n",
              "      background-color: #3B4455;\n",
              "      fill: #D2E3FC;\n",
              "    }\n",
              "\n",
              "    [theme=dark] .colab-df-convert:hover {\n",
              "      background-color: #434B5C;\n",
              "      box-shadow: 0px 1px 3px 1px rgba(0, 0, 0, 0.15);\n",
              "      filter: drop-shadow(0px 1px 2px rgba(0, 0, 0, 0.3));\n",
              "      fill: #FFFFFF;\n",
              "    }\n",
              "  </style>\n",
              "\n",
              "      <script>\n",
              "        const buttonEl =\n",
              "          document.querySelector('#df-78c4fddd-4b35-43ff-94f7-188c7bde1d1d button.colab-df-convert');\n",
              "        buttonEl.style.display =\n",
              "          google.colab.kernel.accessAllowed ? 'block' : 'none';\n",
              "\n",
              "        async function convertToInteractive(key) {\n",
              "          const element = document.querySelector('#df-78c4fddd-4b35-43ff-94f7-188c7bde1d1d');\n",
              "          const dataTable =\n",
              "            await google.colab.kernel.invokeFunction('convertToInteractive',\n",
              "                                                     [key], {});\n",
              "          if (!dataTable) return;\n",
              "\n",
              "          const docLinkHtml = 'Like what you see? Visit the ' +\n",
              "            '<a target=\"_blank\" href=https://colab.research.google.com/notebooks/data_table.ipynb>data table notebook</a>'\n",
              "            + ' to learn more about interactive tables.';\n",
              "          element.innerHTML = '';\n",
              "          dataTable['output_type'] = 'display_data';\n",
              "          await google.colab.output.renderOutput(dataTable, element);\n",
              "          const docLink = document.createElement('div');\n",
              "          docLink.innerHTML = docLinkHtml;\n",
              "          element.appendChild(docLink);\n",
              "        }\n",
              "      </script>\n",
              "    </div>\n",
              "  </div>\n",
              "  "
            ]
          },
          "metadata": {},
          "execution_count": 5
        }
      ]
    },
    {
      "cell_type": "code",
      "source": [
        "#tail has data ending up to 1 April 2022 (last Friday)\n",
        "#Let's take only close column and train the model\n",
        "#Thererafter, do the prediction of closing value only\n",
        "df1=df.reset_index()['close']"
      ],
      "metadata": {
        "id": "GK1RMkuEw3n0"
      },
      "execution_count": 6,
      "outputs": []
    },
    {
      "cell_type": "code",
      "source": [
        "df1.shape"
      ],
      "metadata": {
        "colab": {
          "base_uri": "https://localhost:8080/"
        },
        "id": "hr7kw-FyxXK_",
        "outputId": "257b9e62-c688-4466-df2b-e3ce393a673a"
      },
      "execution_count": 7,
      "outputs": [
        {
          "output_type": "execute_result",
          "data": {
            "text/plain": [
              "(1258,)"
            ]
          },
          "metadata": {},
          "execution_count": 7
        }
      ]
    },
    {
      "cell_type": "code",
      "source": [
        "df1"
      ],
      "metadata": {
        "colab": {
          "base_uri": "https://localhost:8080/"
        },
        "id": "Adxivycixc7t",
        "outputId": "3e6b0da1-56f5-48e6-dfcc-8d4c313d98fc"
      },
      "execution_count": 8,
      "outputs": [
        {
          "output_type": "execute_result",
          "data": {
            "text/plain": [
              "0        831.41\n",
              "1        827.88\n",
              "2        824.67\n",
              "3        824.73\n",
              "4        823.35\n",
              "         ...   \n",
              "1253    2839.00\n",
              "1254    2865.00\n",
              "1255    2852.89\n",
              "1256    2792.99\n",
              "1257    2814.00\n",
              "Name: close, Length: 1258, dtype: float64"
            ]
          },
          "metadata": {},
          "execution_count": 8
        }
      ]
    },
    {
      "cell_type": "code",
      "source": [
        "import matplotlib.pyplot as plt\n",
        "plt.plot(df1)"
      ],
      "metadata": {
        "colab": {
          "base_uri": "https://localhost:8080/",
          "height": 283
        },
        "id": "b9stQdD6xfrB",
        "outputId": "c38f56f2-cbe0-4bad-8382-fab6e49f9758"
      },
      "execution_count": 9,
      "outputs": [
        {
          "output_type": "execute_result",
          "data": {
            "text/plain": [
              "[<matplotlib.lines.Line2D at 0x7f5749f33050>]"
            ]
          },
          "metadata": {},
          "execution_count": 9
        },
        {
          "output_type": "display_data",
          "data": {
            "text/plain": [
              "<Figure size 432x288 with 1 Axes>"
            ],
            "image/png": "[encoded data removed]"
          },
          "metadata": {
            "needs_background": "light"
          }
        }
      ]
    },
    {
      "cell_type": "code",
      "source": [
        "## LSTM are sensitive to the scale of the data \n",
        "## Therefore we apply MaxMin scaler\n",
        "import numpy as np\n",
        "from sklearn.preprocessing import MinMaxScaler"
      ],
      "metadata": {
        "id": "ve_uSU7Qxo_O"
      },
      "execution_count": 10,
      "outputs": []
    },
    {
      "cell_type": "code",
      "source": [
        "#Let's scale all the values to the range 0 to 1\n",
        "scaler=MinMaxScaler(feature_range=(0,1))\n",
        "df1=scaler.fit_transform(np.array(df1).reshape(-1,1))"
      ],
      "metadata": {
        "id": "8kJ7UwrwyBbV"
      },
      "execution_count": 11,
      "outputs": []
    },
    {
      "cell_type": "code",
      "source": [
        "df1.shape"
      ],
      "metadata": {
        "colab": {
          "base_uri": "https://localhost:8080/"
        },
        "id": "a9BGWSZmyZ2T",
        "outputId": "38177105-fab6-4c38-e173-77c4b683b205"
      },
      "execution_count": 12,
      "outputs": [
        {
          "output_type": "execute_result",
          "data": {
            "text/plain": [
              "(1258, 1)"
            ]
          },
          "metadata": {},
          "execution_count": 12
        }
      ]
    },
    {
      "cell_type": "code",
      "source": [
        "df1"
      ],
      "metadata": {
        "colab": {
          "base_uri": "https://localhost:8080/"
        },
        "id": "8kQj7pzgycT0",
        "outputId": "fe36eb11-4e6c-4955-efe9-9a3513834d34"
      },
      "execution_count": 13,
      "outputs": [
        {
          "output_type": "execute_result",
          "data": {
            "text/plain": [
              "array([[3.67897098e-03],\n",
              "       [2.06770950e-03],\n",
              "       [6.02511377e-04],\n",
              "       ...,\n",
              "       [9.26379500e-01],\n",
              "       [8.99038264e-01],\n",
              "       [9.08628237e-01]])"
            ]
          },
          "metadata": {},
          "execution_count": 13
        }
      ]
    },
    {
      "cell_type": "code",
      "source": [
        "#df1 is now an array with all the values between 0 to 1\n",
        "#Now split train and test data\n",
        "training_size=int(len(df1)*0.65)\n",
        "test_size=len(df1)-training_size\n",
        "train_data, test_data=df1[0:training_size, :], df1[training_size:len(df1), :1]"
      ],
      "metadata": {
        "id": "e41a_hb8ykVx"
      },
      "execution_count": 14,
      "outputs": []
    },
    {
      "cell_type": "code",
      "source": [
        "training_size, test_size"
      ],
      "metadata": {
        "colab": {
          "base_uri": "https://localhost:8080/"
        },
        "id": "nzWWJUyozsOg",
        "outputId": "a0c721ae-49b2-4f80-ed82-149c2c6cec0f"
      },
      "execution_count": 15,
      "outputs": [
        {
          "output_type": "execute_result",
          "data": {
            "text/plain": [
              "(817, 441)"
            ]
          },
          "metadata": {},
          "execution_count": 15
        }
      ]
    },
    {
      "cell_type": "code",
      "source": [
        "#training of data wouldn't be like a linear model.\n",
        "#It will be by connecting a day's closing price by 3-4 features. \n",
        "# These 3-4 features would be the closing price of last 3-4 days.\n",
        "# These number of previous records, which would go like a feature \n",
        "# are defined as time_step in our model\n"
      ],
      "metadata": {
        "id": "W22Jz7I3zuof"
      },
      "execution_count": 16,
      "outputs": []
    },
    {
      "cell_type": "code",
      "source": [
        "import numpy as np\n",
        "#Convert the array of values into a dataset matrix\n",
        "def create_dataset(dataset, time_step=1):\n",
        "  dataX, dataY=[], []\n",
        "  for i in range(len(dataset)-time_step-1):\n",
        "    a=dataset[i:(i+time_step), 0]           ###i=0,1,2,3,....99\n",
        "    dataX.append(a)\n",
        "    dataY.append(dataset[i+time_step, 0])\n",
        "  return np.array(dataX), np.array(dataY)"
      ],
      "metadata": {
        "id": "Bk5tEqCq07zX"
      },
      "execution_count": 17,
      "outputs": []
    },
    {
      "cell_type": "code",
      "source": [
        "### Reshape it into X = t, t+1, t+2, t+3 and Y = t+4\n",
        "time_step=100\n",
        "X_train, y_train = create_dataset(train_data, time_step)\n",
        "X_test, y_test = create_dataset(test_data, time_step)"
      ],
      "metadata": {
        "id": "IetuvAQW3aNE"
      },
      "execution_count": 18,
      "outputs": []
    },
    {
      "cell_type": "code",
      "source": [
        "print(X_train.shape, y_train.shape, X_test.shape, y_test.shape)"
      ],
      "metadata": {
        "colab": {
          "base_uri": "https://localhost:8080/"
        },
        "id": "2Mv9gXEo4AO9",
        "outputId": "dc891e74-45b4-4f26-949a-122f6bddb94d"
      },
      "execution_count": 19,
      "outputs": [
        {
          "output_type": "stream",
          "name": "stdout",
          "text": [
            "(716, 100) (716,) (340, 100) (340,)\n"
          ]
        }
      ]
    },
    {
      "cell_type": "markdown",
      "source": [
        "![image.png](data:image/png;base64,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)"
      ],
      "metadata": {
        "id": "TkAwLKNa4WVC"
      }
    },
    {
      "cell_type": "code",
      "source": [
        "#reshape data to [samples, time_steps, features] which is required for LSTM\n",
        "#Only 1 feature is there\n",
        "X_train=X_train.reshape(X_train.shape[0], X_train.shape[1], 1)\n",
        "X_test = X_test.reshape(X_test.shape[0],X_test.shape[1] , 1)"
      ],
      "metadata": {
        "id": "lZY2vNfh4JV8"
      },
      "execution_count": 20,
      "outputs": []
    },
    {
      "cell_type": "code",
      "source": [
        "#Create the stacked LSTM model\n",
        "\n",
        "from tensorflow.keras.models import Sequential\n",
        "from tensorflow.keras.layers import Dense\n",
        "from tensorflow.keras.layers import LSTM"
      ],
      "metadata": {
        "id": "kaDjH5pW6eZ6"
      },
      "execution_count": 21,
      "outputs": []
    },
    {
      "cell_type": "code",
      "source": [
        "#Learn about LSTM model and deploy it"
      ],
      "metadata": {
        "id": "iSd8sl_f6NIy"
      },
      "execution_count": 22,
      "outputs": []
    },
    {
      "cell_type": "code",
      "source": [
        "model=Sequential()\n",
        "model.add(LSTM(50, return_sequences=True, input_shape=(100,1)))\n",
        "model.add(LSTM(50, return_sequences=True,))\n",
        "model.add(LSTM(50))\n",
        "model.add(Dense(1))\n",
        "model.compile(loss='mean_squared_error', optimizer='adam')"
      ],
      "metadata": {
        "id": "zyhUf93L7JPe"
      },
      "execution_count": 24,
      "outputs": []
    },
    {
      "cell_type": "code",
      "source": [
        "model.summary()"
      ],
      "metadata": {
        "colab": {
          "base_uri": "https://localhost:8080/"
        },
        "id": "7B7EVkGhorie",
        "outputId": "9e0bbd2e-2569-4da9-d06f-02971b2d720b"
      },
      "execution_count": 25,
      "outputs": [
        {
          "output_type": "stream",
          "name": "stdout",
          "text": [
            "Model: \"sequential_1\"\n",
            "_________________________________________________________________\n",
            " Layer (type)                Output Shape              Param #   \n",
            "=================================================================\n",
            " lstm (LSTM)                 (None, 100, 50)           10400     \n",
            "                                                                 \n",
            " lstm_1 (LSTM)               (None, 100, 50)           20200     \n",
            "                                                                 \n",
            " lstm_2 (LSTM)               (None, 50)                20200     \n",
            "                                                                 \n",
            " dense (Dense)               (None, 1)                 51        \n",
            "                                                                 \n",
            "=================================================================\n",
            "Total params: 50,851\n",
            "Trainable params: 50,851\n",
            "Non-trainable params: 0\n",
            "_________________________________________________________________\n"
          ]
        }
      ]
    },
    {
      "cell_type": "code",
      "source": [
        "model.fit(X_train, y_train, validation_data=(X_test, y_test), epochs=100, batch_size=64, verbose=1)"
      ],
      "metadata": {
        "colab": {
          "base_uri": "https://localhost:8080/"
        },
        "id": "nhhpmkv0ozM_",
        "outputId": "380e2c4f-e0cd-4908-cd18-074bc489203f"
      },
      "execution_count": 26,
      "outputs": [
        {
          "output_type": "stream",
          "name": "stdout",
          "text": [
            "Epoch 1/100\n",
            "12/12 [==============================] - 17s 526ms/step - loss: 0.0099 - val_loss: 0.1471\n",
            "Epoch 2/100\n",
            "12/12 [==============================] - 4s 319ms/step - loss: 0.0020 - val_loss: 0.0773\n",
            "Epoch 3/100\n",
            "12/12 [==============================] - 4s 304ms/step - loss: 0.0015 - val_loss: 0.0838\n",
            "Epoch 4/100\n",
            "12/12 [==============================] - 3s 214ms/step - loss: 9.3860e-04 - val_loss: 0.0208\n",
            "Epoch 5/100\n",
            "12/12 [==============================] - 2s 191ms/step - loss: 7.1542e-04 - val_loss: 0.0031\n",
            "Epoch 6/100\n",
            "12/12 [==============================] - 2s 193ms/step - loss: 5.9849e-04 - val_loss: 0.0054\n",
            "Epoch 7/100\n",
            "12/12 [==============================] - 2s 194ms/step - loss: 5.2192e-04 - val_loss: 0.0017\n",
            "Epoch 8/100\n",
            "12/12 [==============================] - 2s 191ms/step - loss: 5.1545e-04 - val_loss: 0.0021\n",
            "Epoch 9/100\n",
            "12/12 [==============================] - 2s 187ms/step - loss: 4.8257e-04 - val_loss: 0.0028\n",
            "Epoch 10/100\n",
            "12/12 [==============================] - 2s 195ms/step - loss: 4.7245e-04 - val_loss: 0.0018\n",
            "Epoch 11/100\n",
            "12/12 [==============================] - 2s 196ms/step - loss: 4.6834e-04 - val_loss: 0.0016\n",
            "Epoch 12/100\n",
            "12/12 [==============================] - 2s 185ms/step - loss: 4.2179e-04 - val_loss: 0.0038\n",
            "Epoch 13/100\n",
            "12/12 [==============================] - 2s 185ms/step - loss: 3.9627e-04 - val_loss: 0.0030\n",
            "Epoch 14/100\n",
            "12/12 [==============================] - 2s 198ms/step - loss: 3.8904e-04 - val_loss: 0.0117\n",
            "Epoch 15/100\n",
            "12/12 [==============================] - 2s 196ms/step - loss: 3.7723e-04 - val_loss: 0.0086\n",
            "Epoch 16/100\n",
            "12/12 [==============================] - 2s 186ms/step - loss: 4.0650e-04 - val_loss: 0.0146\n",
            "Epoch 17/100\n",
            "12/12 [==============================] - 2s 192ms/step - loss: 3.8591e-04 - val_loss: 0.0156\n",
            "Epoch 18/100\n",
            "12/12 [==============================] - 2s 190ms/step - loss: 3.3983e-04 - val_loss: 0.0200\n",
            "Epoch 19/100\n",
            "12/12 [==============================] - 2s 193ms/step - loss: 3.3512e-04 - val_loss: 0.0192\n",
            "Epoch 20/100\n",
            "12/12 [==============================] - 2s 195ms/step - loss: 3.3625e-04 - val_loss: 0.0349\n",
            "Epoch 21/100\n",
            "12/12 [==============================] - 2s 195ms/step - loss: 3.3359e-04 - val_loss: 0.0458\n",
            "Epoch 22/100\n",
            "12/12 [==============================] - 3s 226ms/step - loss: 3.6624e-04 - val_loss: 0.0293\n",
            "Epoch 23/100\n",
            "12/12 [==============================] - 2s 195ms/step - loss: 3.6507e-04 - val_loss: 0.0390\n",
            "Epoch 24/100\n",
            "12/12 [==============================] - 2s 197ms/step - loss: 3.2879e-04 - val_loss: 0.0408\n",
            "Epoch 25/100\n",
            "12/12 [==============================] - 2s 193ms/step - loss: 3.1413e-04 - val_loss: 0.0405\n",
            "Epoch 26/100\n",
            "12/12 [==============================] - 2s 184ms/step - loss: 3.1356e-04 - val_loss: 0.0611\n",
            "Epoch 27/100\n",
            "12/12 [==============================] - 2s 187ms/step - loss: 3.0610e-04 - val_loss: 0.0484\n",
            "Epoch 28/100\n",
            "12/12 [==============================] - 2s 185ms/step - loss: 2.9746e-04 - val_loss: 0.0521\n",
            "Epoch 29/100\n",
            "12/12 [==============================] - 2s 196ms/step - loss: 3.0202e-04 - val_loss: 0.0646\n",
            "Epoch 30/100\n",
            "12/12 [==============================] - 2s 190ms/step - loss: 3.0411e-04 - val_loss: 0.0501\n",
            "Epoch 31/100\n",
            "12/12 [==============================] - 2s 192ms/step - loss: 2.9399e-04 - val_loss: 0.0736\n",
            "Epoch 32/100\n",
            "12/12 [==============================] - 2s 196ms/step - loss: 2.9460e-04 - val_loss: 0.0450\n",
            "Epoch 33/100\n",
            "12/12 [==============================] - 2s 192ms/step - loss: 3.1766e-04 - val_loss: 0.0744\n",
            "Epoch 34/100\n",
            "12/12 [==============================] - 2s 197ms/step - loss: 2.9285e-04 - val_loss: 0.0687\n",
            "Epoch 35/100\n",
            "12/12 [==============================] - 2s 194ms/step - loss: 2.7972e-04 - val_loss: 0.0539\n",
            "Epoch 36/100\n",
            "12/12 [==============================] - 2s 189ms/step - loss: 2.7767e-04 - val_loss: 0.0738\n",
            "Epoch 37/100\n",
            "12/12 [==============================] - 2s 194ms/step - loss: 2.6698e-04 - val_loss: 0.0609\n",
            "Epoch 38/100\n",
            "12/12 [==============================] - 3s 235ms/step - loss: 2.7361e-04 - val_loss: 0.0865\n",
            "Epoch 39/100\n",
            "12/12 [==============================] - 2s 196ms/step - loss: 3.1959e-04 - val_loss: 0.0419\n",
            "Epoch 40/100\n",
            "12/12 [==============================] - 2s 187ms/step - loss: 2.7336e-04 - val_loss: 0.0548\n",
            "Epoch 41/100\n",
            "12/12 [==============================] - 2s 195ms/step - loss: 2.7875e-04 - val_loss: 0.0722\n",
            "Epoch 42/100\n",
            "12/12 [==============================] - 2s 192ms/step - loss: 2.7812e-04 - val_loss: 0.0749\n",
            "Epoch 43/100\n",
            "12/12 [==============================] - 2s 186ms/step - loss: 2.5765e-04 - val_loss: 0.0445\n",
            "Epoch 44/100\n",
            "12/12 [==============================] - 2s 197ms/step - loss: 2.7061e-04 - val_loss: 0.0812\n",
            "Epoch 45/100\n",
            "12/12 [==============================] - 2s 193ms/step - loss: 2.6474e-04 - val_loss: 0.0630\n",
            "Epoch 46/100\n",
            "12/12 [==============================] - 2s 199ms/step - loss: 2.6823e-04 - val_loss: 0.0768\n",
            "Epoch 47/100\n",
            "12/12 [==============================] - 2s 187ms/step - loss: 2.6174e-04 - val_loss: 0.0228\n",
            "Epoch 48/100\n",
            "12/12 [==============================] - 2s 178ms/step - loss: 2.5370e-04 - val_loss: 0.0559\n",
            "Epoch 49/100\n",
            "12/12 [==============================] - 2s 198ms/step - loss: 2.5169e-04 - val_loss: 0.0153\n",
            "Epoch 50/100\n",
            "12/12 [==============================] - 2s 192ms/step - loss: 2.4926e-04 - val_loss: 0.0160\n",
            "Epoch 51/100\n",
            "12/12 [==============================] - 2s 194ms/step - loss: 2.4535e-04 - val_loss: 0.0161\n",
            "Epoch 52/100\n",
            "12/12 [==============================] - 2s 194ms/step - loss: 2.7174e-04 - val_loss: 0.0350\n",
            "Epoch 53/100\n",
            "12/12 [==============================] - 2s 195ms/step - loss: 2.3798e-04 - val_loss: 0.0124\n",
            "Epoch 54/100\n",
            "12/12 [==============================] - 2s 195ms/step - loss: 2.4470e-04 - val_loss: 0.0481\n",
            "Epoch 55/100\n",
            "12/12 [==============================] - 2s 197ms/step - loss: 2.3325e-04 - val_loss: 0.0335\n",
            "Epoch 56/100\n",
            "12/12 [==============================] - 2s 191ms/step - loss: 2.3695e-04 - val_loss: 0.0281\n",
            "Epoch 57/100\n",
            "12/12 [==============================] - 2s 194ms/step - loss: 2.4012e-04 - val_loss: 0.0248\n",
            "Epoch 58/100\n",
            "12/12 [==============================] - 2s 190ms/step - loss: 2.5894e-04 - val_loss: 0.0178\n",
            "Epoch 59/100\n",
            "12/12 [==============================] - 2s 190ms/step - loss: 2.5430e-04 - val_loss: 0.0648\n",
            "Epoch 60/100\n",
            "12/12 [==============================] - 2s 176ms/step - loss: 2.2913e-04 - val_loss: 0.0214\n",
            "Epoch 61/100\n",
            "12/12 [==============================] - 2s 176ms/step - loss: 2.2285e-04 - val_loss: 0.0115\n",
            "Epoch 62/100\n",
            "12/12 [==============================] - 2s 192ms/step - loss: 2.2819e-04 - val_loss: 0.0421\n",
            "Epoch 63/100\n",
            "12/12 [==============================] - 2s 195ms/step - loss: 2.2138e-04 - val_loss: 0.0205\n",
            "Epoch 64/100\n",
            "12/12 [==============================] - 3s 223ms/step - loss: 2.0695e-04 - val_loss: 0.0143\n",
            "Epoch 65/100\n",
            "12/12 [==============================] - 2s 199ms/step - loss: 2.0864e-04 - val_loss: 0.0238\n",
            "Epoch 66/100\n",
            "12/12 [==============================] - 2s 194ms/step - loss: 2.2099e-04 - val_loss: 0.0401\n",
            "Epoch 67/100\n",
            "12/12 [==============================] - 2s 194ms/step - loss: 2.3327e-04 - val_loss: 0.0228\n",
            "Epoch 68/100\n",
            "12/12 [==============================] - 2s 196ms/step - loss: 2.2047e-04 - val_loss: 0.0159\n",
            "Epoch 69/100\n",
            "12/12 [==============================] - 2s 194ms/step - loss: 2.1256e-04 - val_loss: 0.0077\n",
            "Epoch 70/100\n",
            "12/12 [==============================] - 2s 197ms/step - loss: 2.1134e-04 - val_loss: 0.0353\n",
            "Epoch 71/100\n",
            "12/12 [==============================] - 2s 200ms/step - loss: 2.0384e-04 - val_loss: 0.0290\n",
            "Epoch 72/100\n",
            "12/12 [==============================] - 2s 198ms/step - loss: 2.2115e-04 - val_loss: 0.0357\n",
            "Epoch 73/100\n",
            "12/12 [==============================] - 2s 197ms/step - loss: 1.9607e-04 - val_loss: 0.0376\n",
            "Epoch 74/100\n",
            "12/12 [==============================] - 2s 204ms/step - loss: 1.9576e-04 - val_loss: 0.0266\n",
            "Epoch 75/100\n",
            "12/12 [==============================] - 2s 196ms/step - loss: 1.9760e-04 - val_loss: 0.0370\n",
            "Epoch 76/100\n",
            "12/12 [==============================] - 2s 196ms/step - loss: 1.9175e-04 - val_loss: 0.0200\n",
            "Epoch 77/100\n",
            "12/12 [==============================] - 2s 193ms/step - loss: 1.9373e-04 - val_loss: 0.0299\n",
            "Epoch 78/100\n",
            "12/12 [==============================] - 2s 196ms/step - loss: 1.8579e-04 - val_loss: 0.0433\n",
            "Epoch 79/100\n",
            "12/12 [==============================] - 2s 192ms/step - loss: 2.2460e-04 - val_loss: 0.0444\n",
            "Epoch 80/100\n",
            "12/12 [==============================] - 2s 194ms/step - loss: 1.9246e-04 - val_loss: 0.0334\n",
            "Epoch 81/100\n",
            "12/12 [==============================] - 2s 194ms/step - loss: 1.7833e-04 - val_loss: 0.0558\n",
            "Epoch 82/100\n",
            "12/12 [==============================] - 2s 196ms/step - loss: 1.8224e-04 - val_loss: 0.0206\n",
            "Epoch 83/100\n",
            "12/12 [==============================] - 3s 213ms/step - loss: 1.9267e-04 - val_loss: 0.0345\n",
            "Epoch 84/100\n",
            "12/12 [==============================] - 3s 199ms/step - loss: 2.0928e-04 - val_loss: 0.0266\n",
            "Epoch 85/100\n",
            "12/12 [==============================] - 2s 196ms/step - loss: 2.0901e-04 - val_loss: 0.0601\n",
            "Epoch 86/100\n",
            "12/12 [==============================] - 2s 196ms/step - loss: 1.9113e-04 - val_loss: 0.0442\n",
            "Epoch 87/100\n",
            "12/12 [==============================] - 2s 196ms/step - loss: 2.0954e-04 - val_loss: 0.1001\n",
            "Epoch 88/100\n",
            "12/12 [==============================] - 2s 192ms/step - loss: 1.6963e-04 - val_loss: 0.0780\n",
            "Epoch 89/100\n",
            "12/12 [==============================] - 2s 198ms/step - loss: 1.7323e-04 - val_loss: 0.0688\n",
            "Epoch 90/100\n",
            "12/12 [==============================] - 2s 194ms/step - loss: 1.8162e-04 - val_loss: 0.0677\n",
            "Epoch 91/100\n",
            "12/12 [==============================] - 2s 199ms/step - loss: 1.6509e-04 - val_loss: 0.0786\n",
            "Epoch 92/100\n",
            "12/12 [==============================] - 2s 188ms/step - loss: 1.9912e-04 - val_loss: 0.0790\n",
            "Epoch 93/100\n",
            "12/12 [==============================] - 2s 188ms/step - loss: 1.7480e-04 - val_loss: 0.1013\n",
            "Epoch 94/100\n",
            "12/12 [==============================] - 2s 183ms/step - loss: 1.7275e-04 - val_loss: 0.0535\n",
            "Epoch 95/100\n",
            "12/12 [==============================] - 2s 194ms/step - loss: 1.5539e-04 - val_loss: 0.0874\n",
            "Epoch 96/100\n",
            "12/12 [==============================] - 2s 196ms/step - loss: 1.5711e-04 - val_loss: 0.0907\n",
            "Epoch 97/100\n",
            "12/12 [==============================] - 2s 194ms/step - loss: 1.5131e-04 - val_loss: 0.0488\n",
            "Epoch 98/100\n",
            "12/12 [==============================] - 2s 194ms/step - loss: 1.6044e-04 - val_loss: 0.0717\n",
            "Epoch 99/100\n",
            "12/12 [==============================] - 2s 193ms/step - loss: 1.6288e-04 - val_loss: 0.0595\n",
            "Epoch 100/100\n",
            "12/12 [==============================] - 2s 195ms/step - loss: 1.4605e-04 - val_loss: 0.0851\n"
          ]
        },
        {
          "output_type": "execute_result",
          "data": {
            "text/plain": [
              "<keras.callbacks.History at 0x7f56bfbba050>"
            ]
          },
          "metadata": {},
          "execution_count": 26
        }
      ]
    },
    {
      "cell_type": "code",
      "source": [
        "import tensorflow as tf"
      ],
      "metadata": {
        "id": "du_gr9chpMX7"
      },
      "execution_count": 27,
      "outputs": []
    },
    {
      "cell_type": "code",
      "source": [
        "tf.__version__"
      ],
      "metadata": {
        "colab": {
          "base_uri": "https://localhost:8080/",
          "height": 36
        },
        "id": "jhgsGNjTqjPp",
        "outputId": "93a8e1ad-aafb-4c8c-930c-d0136a5eb08e"
      },
      "execution_count": 28,
      "outputs": [
        {
          "output_type": "execute_result",
          "data": {
            "text/plain": [
              "'2.8.0'"
            ],
            "application/vnd.google.colaboratory.intrinsic+json": {
              "type": "string"
            }
          },
          "metadata": {},
          "execution_count": 28
        }
      ]
    },
    {
      "cell_type": "code",
      "source": [
        "##Prediction and checking the performance matrix\n",
        "train_predict=model.predict(X_train)\n",
        "test_predict=model.predict(X_test)"
      ],
      "metadata": {
        "id": "p8JzIw50ql_U"
      },
      "execution_count": 29,
      "outputs": []
    },
    {
      "cell_type": "code",
      "source": [
        "##Transforming to original form\n",
        "train_predict=scaler.inverse_transform(train_predict)\n",
        "test_predict=scaler.inverse_transform(test_predict)"
      ],
      "metadata": {
        "id": "_Y5IY1z5q2Xz"
      },
      "execution_count": 30,
      "outputs": []
    },
    {
      "cell_type": "code",
      "source": [
        "##Calculate RMSE performance metrics\n",
        "import math\n",
        "from sklearn.metrics import mean_squared_error\n",
        "math.sqrt(mean_squared_error(y_train, train_predict))"
      ],
      "metadata": {
        "colab": {
          "base_uri": "https://localhost:8080/"
        },
        "id": "ymEcJCrdrEL7",
        "outputId": "ecfafeaf-4b50-4e2d-c1f8-38699e28e233"
      },
      "execution_count": 31,
      "outputs": [
        {
          "output_type": "execute_result",
          "data": {
            "text/plain": [
              "1169.7766233472657"
            ]
          },
          "metadata": {},
          "execution_count": 31
        }
      ]
    },
    {
      "cell_type": "code",
      "source": [
        "##Test data RMSE\n",
        "math.sqrt(mean_squared_error(y_test, test_predict))"
      ],
      "metadata": {
        "colab": {
          "base_uri": "https://localhost:8080/"
        },
        "id": "iV5GyvjgrXhO",
        "outputId": "6a6d0e2a-3436-4007-ae2f-ec0b90392c03"
      },
      "execution_count": 32,
      "outputs": [
        {
          "output_type": "execute_result",
          "data": {
            "text/plain": [
              "1918.7259593586825"
            ]
          },
          "metadata": {},
          "execution_count": 32
        }
      ]
    },
    {
      "cell_type": "code",
      "source": [
        "import numpy\n",
        "#### Plotting\n",
        "# Shift train predictions for plotting\n",
        "look_back=100\n",
        "trainPredictPlot=numpy.empty_like(df1)\n",
        "trainPredictPlot[:, :]=np.nan ##initialize with null values\n",
        "trainPredictPlot[look_back:len(train_predict)+look_back, :] = train_predict\n",
        "\n",
        "# Shift test predictions for plotting\n",
        "testPredictPlot=numpy.empty_like(df1)\n",
        "testPredictPlot[:, :]=np.nan\n",
        "testPredictPlot[len(train_predict)+(look_back*2)+1:(len(df1)-1), :] = test_predict\n",
        "\n",
        "# Plot baseline and predictions\n",
        "plt.plot(scaler.inverse_transform(df1))\n",
        "plt.plot(trainPredictPlot)\n",
        "plt.plot(testPredictPlot)\n",
        "plt.show()"
      ],
      "metadata": {
        "colab": {
          "base_uri": "https://localhost:8080/",
          "height": 265
        },
        "id": "ONszKdz9re15",
        "outputId": "488418d7-b3f5-455f-8506-c693b43aa489"
      },
      "execution_count": 36,
      "outputs": [
        {
          "output_type": "display_data",
          "data": {
            "text/plain": [
              "<Figure size 432x288 with 1 Axes>"
            ],
            "image/png": "[encoded data removed]"
          },
          "metadata": {
            "needs_background": "light"
          }
        }
      ]
    },
    {
      "cell_type": "code",
      "source": [
        "len(test_data)"
      ],
      "metadata": {
        "colab": {
          "base_uri": "https://localhost:8080/"
        },
        "id": "uAioIWWXt7H0",
        "outputId": "45130005-520b-4d08-9511-b1fdf4e32c68"
      },
      "execution_count": 37,
      "outputs": [
        {
          "output_type": "execute_result",
          "data": {
            "text/plain": [
              "441"
            ]
          },
          "metadata": {},
          "execution_count": 37
        }
      ]
    },
    {
      "cell_type": "code",
      "source": [
        "x_input=test_data[341:].reshape(1,-1)\n",
        "x_input.shape"
      ],
      "metadata": {
        "colab": {
          "base_uri": "https://localhost:8080/"
        },
        "id": "qCqhMsZlvKdt",
        "outputId": "7ce4c082-6fcd-42da-82e7-144a0bacca0a"
      },
      "execution_count": 38,
      "outputs": [
        {
          "output_type": "execute_result",
          "data": {
            "text/plain": [
              "(1, 100)"
            ]
          },
          "metadata": {},
          "execution_count": 38
        }
      ]
    },
    {
      "cell_type": "code",
      "source": [
        "temp_input=list(x_input)\n",
        "temp_input=temp_input[0].tolist()"
      ],
      "metadata": {
        "id": "g9WFY4fgvZlZ"
      },
      "execution_count": 39,
      "outputs": []
    },
    {
      "cell_type": "code",
      "source": [
        "temp_input"
      ],
      "metadata": {
        "colab": {
          "base_uri": "https://localhost:8080/"
        },
        "id": "9jEXMIgTvnRg",
        "outputId": "6767a289-2fe0-46e3-e241-66cd08862f23"
      },
      "execution_count": 42,
      "outputs": [
        {
          "output_type": "execute_result",
          "data": {
            "text/plain": [
              "[0.9866671535445468,\n",
              " 0.9627264552703769,\n",
              " 0.9638401884217396,\n",
              " 0.9902913507666042,\n",
              " 0.9879406435004086,\n",
              " 0.9850924079002021,\n",
              " 0.984964602456603,\n",
              " 0.9999999999999998,\n",
              " 0.9930939415655253,\n",
              " 0.9668573097867019,\n",
              " 0.9639223490640532,\n",
              " 0.9635617551338989,\n",
              " 0.9278538270883636,\n",
              " 0.9580524276187563,\n",
              " 0.9246221751573604,\n",
              " 0.9170086223029628,\n",
              " 0.9367134830178516,\n",
              " 0.9252475089349697,\n",
              " 0.9368960622229929,\n",
              " 0.9756028537129764,\n",
              " 0.9818470625288132,\n",
              " 0.9762373164508427,\n",
              " 0.9814316948371165,\n",
              " 0.963443078650557,\n",
              " 0.9476134615647949,\n",
              " 0.9695047082612525,\n",
              " 0.9464084388108616,\n",
              " 0.9278264402075924,\n",
              " 0.9241611626643784,\n",
              " 0.9407667413719913,\n",
              " 0.9656751094334111,\n",
              " 0.9674415632431543,\n",
              " 0.9758539001200459,\n",
              " 0.9611015003446182,\n",
              " 0.9616172865991428,\n",
              " 0.9570345485500928,\n",
              " 0.9449569341299873,\n",
              " 0.9485628734315303,\n",
              " 0.9425560175823773,\n",
              " 0.8808168593638028,\n",
              " 0.8798811409374527,\n",
              " 0.8748921641569634,\n",
              " 0.8892200672804371,\n",
              " 0.9023977214115197,\n",
              " 0.917282491110675,\n",
              " 0.8943048981436259,\n",
              " 0.9002889315921363,\n",
              " 0.8683740865334142,\n",
              " 0.8625452454092739,\n",
              " 0.8429590611777271,\n",
              " 0.8117882263799565,\n",
              " 0.8143443352519364,\n",
              " 0.7811468712770959,\n",
              " 0.8040103522409314,\n",
              " 0.80292400597034,\n",
              " 0.8409780768019426,\n",
              " 0.8629697420612277,\n",
              " 0.8828708754216439,\n",
              " 0.9756028537129764,\n",
              " 0.9264342737683893,\n",
              " 0.9297709087423487,\n",
              " 0.8925430088140112,\n",
              " 0.8950534728847057,\n",
              " 0.9155023438605459,\n",
              " 0.8894802426477637,\n",
              " 0.8486509678980112,\n",
              " 0.8593318513987849,\n",
              " 0.8696064961681189,\n",
              " 0.8793014519611289,\n",
              " 0.8320225667897554,\n",
              " 0.8152161509564866,\n",
              " 0.8054938082827057,\n",
              " 0.7889019230154779,\n",
              " 0.8353546372835865,\n",
              " 0.8522066979181404,\n",
              " 0.8555981066536427,\n",
              " 0.8489978683877799,\n",
              " 0.8543246166977811,\n",
              " 0.8502759228237697,\n",
              " 0.8303200157018116,\n",
              " 0.7786729230474294,\n",
              " 0.7861038966966858,\n",
              " 0.8462409223901444,\n",
              " 0.8354322334457716,\n",
              " 0.8152891826385433,\n",
              " 0.7811970805585098,\n",
              " 0.8078490800290301,\n",
              " 0.8446387898650283,\n",
              " 0.8529461436989634,\n",
              " 0.8730389852247777,\n",
              " 0.8700903310617438,\n",
              " 0.9047712510783585,\n",
              " 0.8885764755823136,\n",
              " 0.9142151604642987,\n",
              " 0.9161276776381553,\n",
              " 0.9200394371083105,\n",
              " 0.9319070854425033,\n",
              " 0.9263795000068467,\n",
              " 0.8990382640369174,\n",
              " 0.9086282367869711]"
            ]
          },
          "metadata": {},
          "execution_count": 42
        }
      ]
    },
    {
      "cell_type": "code",
      "source": [
        "#demonstrating predictions for the next 10 days\n",
        "from numpy import array\n",
        "\n",
        "lst_output=[]\n",
        "n_steps=100\n",
        "i=0\n",
        "while(i<30):\n",
        "    \n",
        "    if(len(temp_input)>100):\n",
        "        #print(temp_input)\n",
        "        x_input=np.array(temp_input[1:])\n",
        "        print(\"{} day input {}\".format(i,x_input))\n",
        "        x_input=x_input.reshape(1,-1)\n",
        "        x_input = x_input.reshape((1, n_steps, 1))\n",
        "        #print(x_input)\n",
        "        yhat = model.predict(x_input, verbose=0)\n",
        "        print(\"{} day output {}\".format(i,yhat))\n",
        "        temp_input.extend(yhat[0].tolist())\n",
        "        temp_input=temp_input[1:]\n",
        "        #print(temp_input)\n",
        "        lst_output.extend(yhat.tolist())\n",
        "        i=i+1\n",
        "    else:\n",
        "        x_input = x_input.reshape((1, n_steps,1))\n",
        "        yhat = model.predict(x_input, verbose=0)\n",
        "        print(yhat[0])\n",
        "        temp_input.extend(yhat[0].tolist())\n",
        "        print(len(temp_input))\n",
        "        lst_output.extend(yhat.tolist())\n",
        "        i=i+1\n",
        "    \n",
        "\n",
        "print(lst_output)"
      ],
      "metadata": {
        "colab": {
          "base_uri": "https://localhost:8080/"
        },
        "id": "5m-RUhrDxYtD",
        "outputId": "ee854a79-06df-4841-d5b7-c6735f54054b"
      },
      "execution_count": 43,
      "outputs": [
        {
          "output_type": "stream",
          "name": "stdout",
          "text": [
            "[0.6749874]\n",
            "101\n",
            "1 day input [0.96272646 0.96384019 0.99029135 0.98794064 0.98509241 0.9849646\n",
            " 1.         0.99309394 0.96685731 0.96392235 0.96356176 0.92785383\n",
            " 0.95805243 0.92462218 0.91700862 0.93671348 0.92524751 0.93689606\n",
            " 0.97560285 0.98184706 0.97623732 0.98143169 0.96344308 0.94761346\n",
            " 0.96950471 0.94640844 0.92782644 0.92416116 0.94076674 0.96567511\n",
            " 0.96744156 0.9758539  0.9611015  0.96161729 0.95703455 0.94495693\n",
            " 0.94856287 0.94255602 0.88081686 0.87988114 0.87489216 0.88922007\n",
            " 0.90239772 0.91728249 0.8943049  0.90028893 0.86837409 0.86254525\n",
            " 0.84295906 0.81178823 0.81434434 0.78114687 0.80401035 0.80292401\n",
            " 0.84097808 0.86296974 0.88287088 0.97560285 0.92643427 0.92977091\n",
            " 0.89254301 0.89505347 0.91550234 0.88948024 0.84865097 0.85933185\n",
            " 0.8696065  0.87930145 0.83202257 0.81521615 0.80549381 0.78890192\n",
            " 0.83535464 0.8522067  0.85559811 0.84899787 0.85432462 0.85027592\n",
            " 0.83032002 0.77867292 0.7861039  0.84624092 0.83543223 0.81528918\n",
            " 0.78119708 0.80784908 0.84463879 0.85294614 0.87303899 0.87009033\n",
            " 0.90477125 0.88857648 0.91421516 0.91612768 0.92003944 0.93190709\n",
            " 0.9263795  0.89903826 0.90862824 0.67498738]\n",
            "1 day output [[0.6230007]]\n",
            "2 day input [0.96384019 0.99029135 0.98794064 0.98509241 0.9849646  1.\n",
            " 0.99309394 0.96685731 0.96392235 0.96356176 0.92785383 0.95805243\n",
            " 0.92462218 0.91700862 0.93671348 0.92524751 0.93689606 0.97560285\n",
            " 0.98184706 0.97623732 0.98143169 0.96344308 0.94761346 0.96950471\n",
            " 0.94640844 0.92782644 0.92416116 0.94076674 0.96567511 0.96744156\n",
            " 0.9758539  0.9611015  0.96161729 0.95703455 0.94495693 0.94856287\n",
            " 0.94255602 0.88081686 0.87988114 0.87489216 0.88922007 0.90239772\n",
            " 0.91728249 0.8943049  0.90028893 0.86837409 0.86254525 0.84295906\n",
            " 0.81178823 0.81434434 0.78114687 0.80401035 0.80292401 0.84097808\n",
            " 0.86296974 0.88287088 0.97560285 0.92643427 0.92977091 0.89254301\n",
            " 0.89505347 0.91550234 0.88948024 0.84865097 0.85933185 0.8696065\n",
            " 0.87930145 0.83202257 0.81521615 0.80549381 0.78890192 0.83535464\n",
            " 0.8522067  0.85559811 0.84899787 0.85432462 0.85027592 0.83032002\n",
            " 0.77867292 0.7861039  0.84624092 0.83543223 0.81528918 0.78119708\n",
            " 0.80784908 0.84463879 0.85294614 0.87303899 0.87009033 0.90477125\n",
            " 0.88857648 0.91421516 0.91612768 0.92003944 0.93190709 0.9263795\n",
            " 0.89903826 0.90862824 0.67498738 0.62300068]\n",
            "2 day output [[0.5427763]]\n",
            "3 day input [0.99029135 0.98794064 0.98509241 0.9849646  1.         0.99309394\n",
            " 0.96685731 0.96392235 0.96356176 0.92785383 0.95805243 0.92462218\n",
            " 0.91700862 0.93671348 0.92524751 0.93689606 0.97560285 0.98184706\n",
            " 0.97623732 0.98143169 0.96344308 0.94761346 0.96950471 0.94640844\n",
            " 0.92782644 0.92416116 0.94076674 0.96567511 0.96744156 0.9758539\n",
            " 0.9611015  0.96161729 0.95703455 0.94495693 0.94856287 0.94255602\n",
            " 0.88081686 0.87988114 0.87489216 0.88922007 0.90239772 0.91728249\n",
            " 0.8943049  0.90028893 0.86837409 0.86254525 0.84295906 0.81178823\n",
            " 0.81434434 0.78114687 0.80401035 0.80292401 0.84097808 0.86296974\n",
            " 0.88287088 0.97560285 0.92643427 0.92977091 0.89254301 0.89505347\n",
            " 0.91550234 0.88948024 0.84865097 0.85933185 0.8696065  0.87930145\n",
            " 0.83202257 0.81521615 0.80549381 0.78890192 0.83535464 0.8522067\n",
            " 0.85559811 0.84899787 0.85432462 0.85027592 0.83032002 0.77867292\n",
            " 0.7861039  0.84624092 0.83543223 0.81528918 0.78119708 0.80784908\n",
            " 0.84463879 0.85294614 0.87303899 0.87009033 0.90477125 0.88857648\n",
            " 0.91421516 0.91612768 0.92003944 0.93190709 0.9263795  0.89903826\n",
            " 0.90862824 0.67498738 0.62300068 0.54277629]\n",
            "3 day output [[0.458217]]\n",
            "4 day input [0.98794064 0.98509241 0.9849646  1.         0.99309394 0.96685731\n",
            " 0.96392235 0.96356176 0.92785383 0.95805243 0.92462218 0.91700862\n",
            " 0.93671348 0.92524751 0.93689606 0.97560285 0.98184706 0.97623732\n",
            " 0.98143169 0.96344308 0.94761346 0.96950471 0.94640844 0.92782644\n",
            " 0.92416116 0.94076674 0.96567511 0.96744156 0.9758539  0.9611015\n",
            " 0.96161729 0.95703455 0.94495693 0.94856287 0.94255602 0.88081686\n",
            " 0.87988114 0.87489216 0.88922007 0.90239772 0.91728249 0.8943049\n",
            " 0.90028893 0.86837409 0.86254525 0.84295906 0.81178823 0.81434434\n",
            " 0.78114687 0.80401035 0.80292401 0.84097808 0.86296974 0.88287088\n",
            " 0.97560285 0.92643427 0.92977091 0.89254301 0.89505347 0.91550234\n",
            " 0.88948024 0.84865097 0.85933185 0.8696065  0.87930145 0.83202257\n",
            " 0.81521615 0.80549381 0.78890192 0.83535464 0.8522067  0.85559811\n",
            " 0.84899787 0.85432462 0.85027592 0.83032002 0.77867292 0.7861039\n",
            " 0.84624092 0.83543223 0.81528918 0.78119708 0.80784908 0.84463879\n",
            " 0.85294614 0.87303899 0.87009033 0.90477125 0.88857648 0.91421516\n",
            " 0.91612768 0.92003944 0.93190709 0.9263795  0.89903826 0.90862824\n",
            " 0.67498738 0.62300068 0.54277629 0.458217  ]\n",
            "4 day output [[0.38147235]]\n",
            "5 day input [0.98509241 0.9849646  1.         0.99309394 0.96685731 0.96392235\n",
            " 0.96356176 0.92785383 0.95805243 0.92462218 0.91700862 0.93671348\n",
            " 0.92524751 0.93689606 0.97560285 0.98184706 0.97623732 0.98143169\n",
            " 0.96344308 0.94761346 0.96950471 0.94640844 0.92782644 0.92416116\n",
            " 0.94076674 0.96567511 0.96744156 0.9758539  0.9611015  0.96161729\n",
            " 0.95703455 0.94495693 0.94856287 0.94255602 0.88081686 0.87988114\n",
            " 0.87489216 0.88922007 0.90239772 0.91728249 0.8943049  0.90028893\n",
            " 0.86837409 0.86254525 0.84295906 0.81178823 0.81434434 0.78114687\n",
            " 0.80401035 0.80292401 0.84097808 0.86296974 0.88287088 0.97560285\n",
            " 0.92643427 0.92977091 0.89254301 0.89505347 0.91550234 0.88948024\n",
            " 0.84865097 0.85933185 0.8696065  0.87930145 0.83202257 0.81521615\n",
            " 0.80549381 0.78890192 0.83535464 0.8522067  0.85559811 0.84899787\n",
            " 0.85432462 0.85027592 0.83032002 0.77867292 0.7861039  0.84624092\n",
            " 0.83543223 0.81528918 0.78119708 0.80784908 0.84463879 0.85294614\n",
            " 0.87303899 0.87009033 0.90477125 0.88857648 0.91421516 0.91612768\n",
            " 0.92003944 0.93190709 0.9263795  0.89903826 0.90862824 0.67498738\n",
            " 0.62300068 0.54277629 0.458217   0.38147235]\n",
            "5 day output [[0.3147353]]\n",
            "6 day input [0.9849646  1.         0.99309394 0.96685731 0.96392235 0.96356176\n",
            " 0.92785383 0.95805243 0.92462218 0.91700862 0.93671348 0.92524751\n",
            " 0.93689606 0.97560285 0.98184706 0.97623732 0.98143169 0.96344308\n",
            " 0.94761346 0.96950471 0.94640844 0.92782644 0.92416116 0.94076674\n",
            " 0.96567511 0.96744156 0.9758539  0.9611015  0.96161729 0.95703455\n",
            " 0.94495693 0.94856287 0.94255602 0.88081686 0.87988114 0.87489216\n",
            " 0.88922007 0.90239772 0.91728249 0.8943049  0.90028893 0.86837409\n",
            " 0.86254525 0.84295906 0.81178823 0.81434434 0.78114687 0.80401035\n",
            " 0.80292401 0.84097808 0.86296974 0.88287088 0.97560285 0.92643427\n",
            " 0.92977091 0.89254301 0.89505347 0.91550234 0.88948024 0.84865097\n",
            " 0.85933185 0.8696065  0.87930145 0.83202257 0.81521615 0.80549381\n",
            " 0.78890192 0.83535464 0.8522067  0.85559811 0.84899787 0.85432462\n",
            " 0.85027592 0.83032002 0.77867292 0.7861039  0.84624092 0.83543223\n",
            " 0.81528918 0.78119708 0.80784908 0.84463879 0.85294614 0.87303899\n",
            " 0.87009033 0.90477125 0.88857648 0.91421516 0.91612768 0.92003944\n",
            " 0.93190709 0.9263795  0.89903826 0.90862824 0.67498738 0.62300068\n",
            " 0.54277629 0.458217   0.38147235 0.31473529]\n",
            "6 day output [[0.2557172]]\n",
            "7 day input [1.         0.99309394 0.96685731 0.96392235 0.96356176 0.92785383\n",
            " 0.95805243 0.92462218 0.91700862 0.93671348 0.92524751 0.93689606\n",
            " 0.97560285 0.98184706 0.97623732 0.98143169 0.96344308 0.94761346\n",
            " 0.96950471 0.94640844 0.92782644 0.92416116 0.94076674 0.96567511\n",
            " 0.96744156 0.9758539  0.9611015  0.96161729 0.95703455 0.94495693\n",
            " 0.94856287 0.94255602 0.88081686 0.87988114 0.87489216 0.88922007\n",
            " 0.90239772 0.91728249 0.8943049  0.90028893 0.86837409 0.86254525\n",
            " 0.84295906 0.81178823 0.81434434 0.78114687 0.80401035 0.80292401\n",
            " 0.84097808 0.86296974 0.88287088 0.97560285 0.92643427 0.92977091\n",
            " 0.89254301 0.89505347 0.91550234 0.88948024 0.84865097 0.85933185\n",
            " 0.8696065  0.87930145 0.83202257 0.81521615 0.80549381 0.78890192\n",
            " 0.83535464 0.8522067  0.85559811 0.84899787 0.85432462 0.85027592\n",
            " 0.83032002 0.77867292 0.7861039  0.84624092 0.83543223 0.81528918\n",
            " 0.78119708 0.80784908 0.84463879 0.85294614 0.87303899 0.87009033\n",
            " 0.90477125 0.88857648 0.91421516 0.91612768 0.92003944 0.93190709\n",
            " 0.9263795  0.89903826 0.90862824 0.67498738 0.62300068 0.54277629\n",
            " 0.458217   0.38147235 0.31473529 0.25571719]\n",
            "7 day output [[0.2010324]]\n",
            "8 day input [0.99309394 0.96685731 0.96392235 0.96356176 0.92785383 0.95805243\n",
            " 0.92462218 0.91700862 0.93671348 0.92524751 0.93689606 0.97560285\n",
            " 0.98184706 0.97623732 0.98143169 0.96344308 0.94761346 0.96950471\n",
            " 0.94640844 0.92782644 0.92416116 0.94076674 0.96567511 0.96744156\n",
            " 0.9758539  0.9611015  0.96161729 0.95703455 0.94495693 0.94856287\n",
            " 0.94255602 0.88081686 0.87988114 0.87489216 0.88922007 0.90239772\n",
            " 0.91728249 0.8943049  0.90028893 0.86837409 0.86254525 0.84295906\n",
            " 0.81178823 0.81434434 0.78114687 0.80401035 0.80292401 0.84097808\n",
            " 0.86296974 0.88287088 0.97560285 0.92643427 0.92977091 0.89254301\n",
            " 0.89505347 0.91550234 0.88948024 0.84865097 0.85933185 0.8696065\n",
            " 0.87930145 0.83202257 0.81521615 0.80549381 0.78890192 0.83535464\n",
            " 0.8522067  0.85559811 0.84899787 0.85432462 0.85027592 0.83032002\n",
            " 0.77867292 0.7861039  0.84624092 0.83543223 0.81528918 0.78119708\n",
            " 0.80784908 0.84463879 0.85294614 0.87303899 0.87009033 0.90477125\n",
            " 0.88857648 0.91421516 0.91612768 0.92003944 0.93190709 0.9263795\n",
            " 0.89903826 0.90862824 0.67498738 0.62300068 0.54277629 0.458217\n",
            " 0.38147235 0.31473529 0.25571719 0.2010324 ]\n",
            "8 day output [[0.1481515]]\n",
            "9 day input [0.96685731 0.96392235 0.96356176 0.92785383 0.95805243 0.92462218\n",
            " 0.91700862 0.93671348 0.92524751 0.93689606 0.97560285 0.98184706\n",
            " 0.97623732 0.98143169 0.96344308 0.94761346 0.96950471 0.94640844\n",
            " 0.92782644 0.92416116 0.94076674 0.96567511 0.96744156 0.9758539\n",
            " 0.9611015  0.96161729 0.95703455 0.94495693 0.94856287 0.94255602\n",
            " 0.88081686 0.87988114 0.87489216 0.88922007 0.90239772 0.91728249\n",
            " 0.8943049  0.90028893 0.86837409 0.86254525 0.84295906 0.81178823\n",
            " 0.81434434 0.78114687 0.80401035 0.80292401 0.84097808 0.86296974\n",
            " 0.88287088 0.97560285 0.92643427 0.92977091 0.89254301 0.89505347\n",
            " 0.91550234 0.88948024 0.84865097 0.85933185 0.8696065  0.87930145\n",
            " 0.83202257 0.81521615 0.80549381 0.78890192 0.83535464 0.8522067\n",
            " 0.85559811 0.84899787 0.85432462 0.85027592 0.83032002 0.77867292\n",
            " 0.7861039  0.84624092 0.83543223 0.81528918 0.78119708 0.80784908\n",
            " 0.84463879 0.85294614 0.87303899 0.87009033 0.90477125 0.88857648\n",
            " 0.91421516 0.91612768 0.92003944 0.93190709 0.9263795  0.89903826\n",
            " 0.90862824 0.67498738 0.62300068 0.54277629 0.458217   0.38147235\n",
            " 0.31473529 0.25571719 0.2010324  0.1481515 ]\n",
            "9 day output [[0.09585692]]\n",
            "10 day input [0.96392235 0.96356176 0.92785383 0.95805243 0.92462218 0.91700862\n",
            " 0.93671348 0.92524751 0.93689606 0.97560285 0.98184706 0.97623732\n",
            " 0.98143169 0.96344308 0.94761346 0.96950471 0.94640844 0.92782644\n",
            " 0.92416116 0.94076674 0.96567511 0.96744156 0.9758539  0.9611015\n",
            " 0.96161729 0.95703455 0.94495693 0.94856287 0.94255602 0.88081686\n",
            " 0.87988114 0.87489216 0.88922007 0.90239772 0.91728249 0.8943049\n",
            " 0.90028893 0.86837409 0.86254525 0.84295906 0.81178823 0.81434434\n",
            " 0.78114687 0.80401035 0.80292401 0.84097808 0.86296974 0.88287088\n",
            " 0.97560285 0.92643427 0.92977091 0.89254301 0.89505347 0.91550234\n",
            " 0.88948024 0.84865097 0.85933185 0.8696065  0.87930145 0.83202257\n",
            " 0.81521615 0.80549381 0.78890192 0.83535464 0.8522067  0.85559811\n",
            " 0.84899787 0.85432462 0.85027592 0.83032002 0.77867292 0.7861039\n",
            " 0.84624092 0.83543223 0.81528918 0.78119708 0.80784908 0.84463879\n",
            " 0.85294614 0.87303899 0.87009033 0.90477125 0.88857648 0.91421516\n",
            " 0.91612768 0.92003944 0.93190709 0.9263795  0.89903826 0.90862824\n",
            " 0.67498738 0.62300068 0.54277629 0.458217   0.38147235 0.31473529\n",
            " 0.25571719 0.2010324  0.1481515  0.09585692]\n",
            "10 day output [[0.04451681]]\n",
            "11 day input [0.96356176 0.92785383 0.95805243 0.92462218 0.91700862 0.93671348\n",
            " 0.92524751 0.93689606 0.97560285 0.98184706 0.97623732 0.98143169\n",
            " 0.96344308 0.94761346 0.96950471 0.94640844 0.92782644 0.92416116\n",
            " 0.94076674 0.96567511 0.96744156 0.9758539  0.9611015  0.96161729\n",
            " 0.95703455 0.94495693 0.94856287 0.94255602 0.88081686 0.87988114\n",
            " 0.87489216 0.88922007 0.90239772 0.91728249 0.8943049  0.90028893\n",
            " 0.86837409 0.86254525 0.84295906 0.81178823 0.81434434 0.78114687\n",
            " 0.80401035 0.80292401 0.84097808 0.86296974 0.88287088 0.97560285\n",
            " 0.92643427 0.92977091 0.89254301 0.89505347 0.91550234 0.88948024\n",
            " 0.84865097 0.85933185 0.8696065  0.87930145 0.83202257 0.81521615\n",
            " 0.80549381 0.78890192 0.83535464 0.8522067  0.85559811 0.84899787\n",
            " 0.85432462 0.85027592 0.83032002 0.77867292 0.7861039  0.84624092\n",
            " 0.83543223 0.81528918 0.78119708 0.80784908 0.84463879 0.85294614\n",
            " 0.87303899 0.87009033 0.90477125 0.88857648 0.91421516 0.91612768\n",
            " 0.92003944 0.93190709 0.9263795  0.89903826 0.90862824 0.67498738\n",
            " 0.62300068 0.54277629 0.458217   0.38147235 0.31473529 0.25571719\n",
            " 0.2010324  0.1481515  0.09585692 0.04451681]\n",
            "11 day output [[-0.00424945]]\n",
            "12 day input [ 0.92785383  0.95805243  0.92462218  0.91700862  0.93671348  0.92524751\n",
            "  0.93689606  0.97560285  0.98184706  0.97623732  0.98143169  0.96344308\n",
            "  0.94761346  0.96950471  0.94640844  0.92782644  0.92416116  0.94076674\n",
            "  0.96567511  0.96744156  0.9758539   0.9611015   0.96161729  0.95703455\n",
            "  0.94495693  0.94856287  0.94255602  0.88081686  0.87988114  0.87489216\n",
            "  0.88922007  0.90239772  0.91728249  0.8943049   0.90028893  0.86837409\n",
            "  0.86254525  0.84295906  0.81178823  0.81434434  0.78114687  0.80401035\n",
            "  0.80292401  0.84097808  0.86296974  0.88287088  0.97560285  0.92643427\n",
            "  0.92977091  0.89254301  0.89505347  0.91550234  0.88948024  0.84865097\n",
            "  0.85933185  0.8696065   0.87930145  0.83202257  0.81521615  0.80549381\n",
            "  0.78890192  0.83535464  0.8522067   0.85559811  0.84899787  0.85432462\n",
            "  0.85027592  0.83032002  0.77867292  0.7861039   0.84624092  0.83543223\n",
            "  0.81528918  0.78119708  0.80784908  0.84463879  0.85294614  0.87303899\n",
            "  0.87009033  0.90477125  0.88857648  0.91421516  0.91612768  0.92003944\n",
            "  0.93190709  0.9263795   0.89903826  0.90862824  0.67498738  0.62300068\n",
            "  0.54277629  0.458217    0.38147235  0.31473529  0.25571719  0.2010324\n",
            "  0.1481515   0.09585692  0.04451681 -0.00424945]\n",
            "12 day output [[-0.04864025]]\n",
            "13 day input [ 0.95805243  0.92462218  0.91700862  0.93671348  0.92524751  0.93689606\n",
            "  0.97560285  0.98184706  0.97623732  0.98143169  0.96344308  0.94761346\n",
            "  0.96950471  0.94640844  0.92782644  0.92416116  0.94076674  0.96567511\n",
            "  0.96744156  0.9758539   0.9611015   0.96161729  0.95703455  0.94495693\n",
            "  0.94856287  0.94255602  0.88081686  0.87988114  0.87489216  0.88922007\n",
            "  0.90239772  0.91728249  0.8943049   0.90028893  0.86837409  0.86254525\n",
            "  0.84295906  0.81178823  0.81434434  0.78114687  0.80401035  0.80292401\n",
            "  0.84097808  0.86296974  0.88287088  0.97560285  0.92643427  0.92977091\n",
            "  0.89254301  0.89505347  0.91550234  0.88948024  0.84865097  0.85933185\n",
            "  0.8696065   0.87930145  0.83202257  0.81521615  0.80549381  0.78890192\n",
            "  0.83535464  0.8522067   0.85559811  0.84899787  0.85432462  0.85027592\n",
            "  0.83032002  0.77867292  0.7861039   0.84624092  0.83543223  0.81528918\n",
            "  0.78119708  0.80784908  0.84463879  0.85294614  0.87303899  0.87009033\n",
            "  0.90477125  0.88857648  0.91421516  0.91612768  0.92003944  0.93190709\n",
            "  0.9263795   0.89903826  0.90862824  0.67498738  0.62300068  0.54277629\n",
            "  0.458217    0.38147235  0.31473529  0.25571719  0.2010324   0.1481515\n",
            "  0.09585692  0.04451681 -0.00424945 -0.04864025]\n",
            "13 day output [[-0.08727881]]\n",
            "14 day input [ 0.92462218  0.91700862  0.93671348  0.92524751  0.93689606  0.97560285\n",
            "  0.98184706  0.97623732  0.98143169  0.96344308  0.94761346  0.96950471\n",
            "  0.94640844  0.92782644  0.92416116  0.94076674  0.96567511  0.96744156\n",
            "  0.9758539   0.9611015   0.96161729  0.95703455  0.94495693  0.94856287\n",
            "  0.94255602  0.88081686  0.87988114  0.87489216  0.88922007  0.90239772\n",
            "  0.91728249  0.8943049   0.90028893  0.86837409  0.86254525  0.84295906\n",
            "  0.81178823  0.81434434  0.78114687  0.80401035  0.80292401  0.84097808\n",
            "  0.86296974  0.88287088  0.97560285  0.92643427  0.92977091  0.89254301\n",
            "  0.89505347  0.91550234  0.88948024  0.84865097  0.85933185  0.8696065\n",
            "  0.87930145  0.83202257  0.81521615  0.80549381  0.78890192  0.83535464\n",
            "  0.8522067   0.85559811  0.84899787  0.85432462  0.85027592  0.83032002\n",
            "  0.77867292  0.7861039   0.84624092  0.83543223  0.81528918  0.78119708\n",
            "  0.80784908  0.84463879  0.85294614  0.87303899  0.87009033  0.90477125\n",
            "  0.88857648  0.91421516  0.91612768  0.92003944  0.93190709  0.9263795\n",
            "  0.89903826  0.90862824  0.67498738  0.62300068  0.54277629  0.458217\n",
            "  0.38147235  0.31473529  0.25571719  0.2010324   0.1481515   0.09585692\n",
            "  0.04451681 -0.00424945 -0.04864025 -0.08727881]\n",
            "14 day output [[-0.11898901]]\n",
            "15 day input [ 0.91700862  0.93671348  0.92524751  0.93689606  0.97560285  0.98184706\n",
            "  0.97623732  0.98143169  0.96344308  0.94761346  0.96950471  0.94640844\n",
            "  0.92782644  0.92416116  0.94076674  0.96567511  0.96744156  0.9758539\n",
            "  0.9611015   0.96161729  0.95703455  0.94495693  0.94856287  0.94255602\n",
            "  0.88081686  0.87988114  0.87489216  0.88922007  0.90239772  0.91728249\n",
            "  0.8943049   0.90028893  0.86837409  0.86254525  0.84295906  0.81178823\n",
            "  0.81434434  0.78114687  0.80401035  0.80292401  0.84097808  0.86296974\n",
            "  0.88287088  0.97560285  0.92643427  0.92977091  0.89254301  0.89505347\n",
            "  0.91550234  0.88948024  0.84865097  0.85933185  0.8696065   0.87930145\n",
            "  0.83202257  0.81521615  0.80549381  0.78890192  0.83535464  0.8522067\n",
            "  0.85559811  0.84899787  0.85432462  0.85027592  0.83032002  0.77867292\n",
            "  0.7861039   0.84624092  0.83543223  0.81528918  0.78119708  0.80784908\n",
            "  0.84463879  0.85294614  0.87303899  0.87009033  0.90477125  0.88857648\n",
            "  0.91421516  0.91612768  0.92003944  0.93190709  0.9263795   0.89903826\n",
            "  0.90862824  0.67498738  0.62300068  0.54277629  0.458217    0.38147235\n",
            "  0.31473529  0.25571719  0.2010324   0.1481515   0.09585692  0.04451681\n",
            " -0.00424945 -0.04864025 -0.08727881 -0.11898901]\n",
            "15 day output [[-0.14376365]]\n",
            "16 day input [ 0.93671348  0.92524751  0.93689606  0.97560285  0.98184706  0.97623732\n",
            "  0.98143169  0.96344308  0.94761346  0.96950471  0.94640844  0.92782644\n",
            "  0.92416116  0.94076674  0.96567511  0.96744156  0.9758539   0.9611015\n",
            "  0.96161729  0.95703455  0.94495693  0.94856287  0.94255602  0.88081686\n",
            "  0.87988114  0.87489216  0.88922007  0.90239772  0.91728249  0.8943049\n",
            "  0.90028893  0.86837409  0.86254525  0.84295906  0.81178823  0.81434434\n",
            "  0.78114687  0.80401035  0.80292401  0.84097808  0.86296974  0.88287088\n",
            "  0.97560285  0.92643427  0.92977091  0.89254301  0.89505347  0.91550234\n",
            "  0.88948024  0.84865097  0.85933185  0.8696065   0.87930145  0.83202257\n",
            "  0.81521615  0.80549381  0.78890192  0.83535464  0.8522067   0.85559811\n",
            "  0.84899787  0.85432462  0.85027592  0.83032002  0.77867292  0.7861039\n",
            "  0.84624092  0.83543223  0.81528918  0.78119708  0.80784908  0.84463879\n",
            "  0.85294614  0.87303899  0.87009033  0.90477125  0.88857648  0.91421516\n",
            "  0.91612768  0.92003944  0.93190709  0.9263795   0.89903826  0.90862824\n",
            "  0.67498738  0.62300068  0.54277629  0.458217    0.38147235  0.31473529\n",
            "  0.25571719  0.2010324   0.1481515   0.09585692  0.04451681 -0.00424945\n",
            " -0.04864025 -0.08727881 -0.11898901 -0.14376365]\n",
            "16 day output [[-0.16168346]]\n",
            "17 day input [ 0.92524751  0.93689606  0.97560285  0.98184706  0.97623732  0.98143169\n",
            "  0.96344308  0.94761346  0.96950471  0.94640844  0.92782644  0.92416116\n",
            "  0.94076674  0.96567511  0.96744156  0.9758539   0.9611015   0.96161729\n",
            "  0.95703455  0.94495693  0.94856287  0.94255602  0.88081686  0.87988114\n",
            "  0.87489216  0.88922007  0.90239772  0.91728249  0.8943049   0.90028893\n",
            "  0.86837409  0.86254525  0.84295906  0.81178823  0.81434434  0.78114687\n",
            "  0.80401035  0.80292401  0.84097808  0.86296974  0.88287088  0.97560285\n",
            "  0.92643427  0.92977091  0.89254301  0.89505347  0.91550234  0.88948024\n",
            "  0.84865097  0.85933185  0.8696065   0.87930145  0.83202257  0.81521615\n",
            "  0.80549381  0.78890192  0.83535464  0.8522067   0.85559811  0.84899787\n",
            "  0.85432462  0.85027592  0.83032002  0.77867292  0.7861039   0.84624092\n",
            "  0.83543223  0.81528918  0.78119708  0.80784908  0.84463879  0.85294614\n",
            "  0.87303899  0.87009033  0.90477125  0.88857648  0.91421516  0.91612768\n",
            "  0.92003944  0.93190709  0.9263795   0.89903826  0.90862824  0.67498738\n",
            "  0.62300068  0.54277629  0.458217    0.38147235  0.31473529  0.25571719\n",
            "  0.2010324   0.1481515   0.09585692  0.04451681 -0.00424945 -0.04864025\n",
            " -0.08727881 -0.11898901 -0.14376365 -0.16168346]\n",
            "17 day output [[-0.172996]]\n",
            "18 day input [ 0.93689606  0.97560285  0.98184706  0.97623732  0.98143169  0.96344308\n",
            "  0.94761346  0.96950471  0.94640844  0.92782644  0.92416116  0.94076674\n",
            "  0.96567511  0.96744156  0.9758539   0.9611015   0.96161729  0.95703455\n",
            "  0.94495693  0.94856287  0.94255602  0.88081686  0.87988114  0.87489216\n",
            "  0.88922007  0.90239772  0.91728249  0.8943049   0.90028893  0.86837409\n",
            "  0.86254525  0.84295906  0.81178823  0.81434434  0.78114687  0.80401035\n",
            "  0.80292401  0.84097808  0.86296974  0.88287088  0.97560285  0.92643427\n",
            "  0.92977091  0.89254301  0.89505347  0.91550234  0.88948024  0.84865097\n",
            "  0.85933185  0.8696065   0.87930145  0.83202257  0.81521615  0.80549381\n",
            "  0.78890192  0.83535464  0.8522067   0.85559811  0.84899787  0.85432462\n",
            "  0.85027592  0.83032002  0.77867292  0.7861039   0.84624092  0.83543223\n",
            "  0.81528918  0.78119708  0.80784908  0.84463879  0.85294614  0.87303899\n",
            "  0.87009033  0.90477125  0.88857648  0.91421516  0.91612768  0.92003944\n",
            "  0.93190709  0.9263795   0.89903826  0.90862824  0.67498738  0.62300068\n",
            "  0.54277629  0.458217    0.38147235  0.31473529  0.25571719  0.2010324\n",
            "  0.1481515   0.09585692  0.04451681 -0.00424945 -0.04864025 -0.08727881\n",
            " -0.11898901 -0.14376365 -0.16168346 -0.172996  ]\n",
            "18 day output [[-0.17801128]]\n",
            "19 day input [ 0.97560285  0.98184706  0.97623732  0.98143169  0.96344308  0.94761346\n",
            "  0.96950471  0.94640844  0.92782644  0.92416116  0.94076674  0.96567511\n",
            "  0.96744156  0.9758539   0.9611015   0.96161729  0.95703455  0.94495693\n",
            "  0.94856287  0.94255602  0.88081686  0.87988114  0.87489216  0.88922007\n",
            "  0.90239772  0.91728249  0.8943049   0.90028893  0.86837409  0.86254525\n",
            "  0.84295906  0.81178823  0.81434434  0.78114687  0.80401035  0.80292401\n",
            "  0.84097808  0.86296974  0.88287088  0.97560285  0.92643427  0.92977091\n",
            "  0.89254301  0.89505347  0.91550234  0.88948024  0.84865097  0.85933185\n",
            "  0.8696065   0.87930145  0.83202257  0.81521615  0.80549381  0.78890192\n",
            "  0.83535464  0.8522067   0.85559811  0.84899787  0.85432462  0.85027592\n",
            "  0.83032002  0.77867292  0.7861039   0.84624092  0.83543223  0.81528918\n",
            "  0.78119708  0.80784908  0.84463879  0.85294614  0.87303899  0.87009033\n",
            "  0.90477125  0.88857648  0.91421516  0.91612768  0.92003944  0.93190709\n",
            "  0.9263795   0.89903826  0.90862824  0.67498738  0.62300068  0.54277629\n",
            "  0.458217    0.38147235  0.31473529  0.25571719  0.2010324   0.1481515\n",
            "  0.09585692  0.04451681 -0.00424945 -0.04864025 -0.08727881 -0.11898901\n",
            " -0.14376365 -0.16168346 -0.172996   -0.17801128]\n",
            "19 day output [[-0.17659602]]\n",
            "20 day input [ 0.98184706  0.97623732  0.98143169  0.96344308  0.94761346  0.96950471\n",
            "  0.94640844  0.92782644  0.92416116  0.94076674  0.96567511  0.96744156\n",
            "  0.9758539   0.9611015   0.96161729  0.95703455  0.94495693  0.94856287\n",
            "  0.94255602  0.88081686  0.87988114  0.87489216  0.88922007  0.90239772\n",
            "  0.91728249  0.8943049   0.90028893  0.86837409  0.86254525  0.84295906\n",
            "  0.81178823  0.81434434  0.78114687  0.80401035  0.80292401  0.84097808\n",
            "  0.86296974  0.88287088  0.97560285  0.92643427  0.92977091  0.89254301\n",
            "  0.89505347  0.91550234  0.88948024  0.84865097  0.85933185  0.8696065\n",
            "  0.87930145  0.83202257  0.81521615  0.80549381  0.78890192  0.83535464\n",
            "  0.8522067   0.85559811  0.84899787  0.85432462  0.85027592  0.83032002\n",
            "  0.77867292  0.7861039   0.84624092  0.83543223  0.81528918  0.78119708\n",
            "  0.80784908  0.84463879  0.85294614  0.87303899  0.87009033  0.90477125\n",
            "  0.88857648  0.91421516  0.91612768  0.92003944  0.93190709  0.9263795\n",
            "  0.89903826  0.90862824  0.67498738  0.62300068  0.54277629  0.458217\n",
            "  0.38147235  0.31473529  0.25571719  0.2010324   0.1481515   0.09585692\n",
            "  0.04451681 -0.00424945 -0.04864025 -0.08727881 -0.11898901 -0.14376365\n",
            " -0.16168346 -0.172996   -0.17801128 -0.17659602]\n",
            "20 day output [[-0.16853008]]\n",
            "21 day input [ 0.97623732  0.98143169  0.96344308  0.94761346  0.96950471  0.94640844\n",
            "  0.92782644  0.92416116  0.94076674  0.96567511  0.96744156  0.9758539\n",
            "  0.9611015   0.96161729  0.95703455  0.94495693  0.94856287  0.94255602\n",
            "  0.88081686  0.87988114  0.87489216  0.88922007  0.90239772  0.91728249\n",
            "  0.8943049   0.90028893  0.86837409  0.86254525  0.84295906  0.81178823\n",
            "  0.81434434  0.78114687  0.80401035  0.80292401  0.84097808  0.86296974\n",
            "  0.88287088  0.97560285  0.92643427  0.92977091  0.89254301  0.89505347\n",
            "  0.91550234  0.88948024  0.84865097  0.85933185  0.8696065   0.87930145\n",
            "  0.83202257  0.81521615  0.80549381  0.78890192  0.83535464  0.8522067\n",
            "  0.85559811  0.84899787  0.85432462  0.85027592  0.83032002  0.77867292\n",
            "  0.7861039   0.84624092  0.83543223  0.81528918  0.78119708  0.80784908\n",
            "  0.84463879  0.85294614  0.87303899  0.87009033  0.90477125  0.88857648\n",
            "  0.91421516  0.91612768  0.92003944  0.93190709  0.9263795   0.89903826\n",
            "  0.90862824  0.67498738  0.62300068  0.54277629  0.458217    0.38147235\n",
            "  0.31473529  0.25571719  0.2010324   0.1481515   0.09585692  0.04451681\n",
            " -0.00424945 -0.04864025 -0.08727881 -0.11898901 -0.14376365 -0.16168346\n",
            " -0.172996   -0.17801128 -0.17659602 -0.16853008]\n",
            "21 day output [[-0.15406144]]\n",
            "22 day input [ 0.98143169  0.96344308  0.94761346  0.96950471  0.94640844  0.92782644\n",
            "  0.92416116  0.94076674  0.96567511  0.96744156  0.9758539   0.9611015\n",
            "  0.96161729  0.95703455  0.94495693  0.94856287  0.94255602  0.88081686\n",
            "  0.87988114  0.87489216  0.88922007  0.90239772  0.91728249  0.8943049\n",
            "  0.90028893  0.86837409  0.86254525  0.84295906  0.81178823  0.81434434\n",
            "  0.78114687  0.80401035  0.80292401  0.84097808  0.86296974  0.88287088\n",
            "  0.97560285  0.92643427  0.92977091  0.89254301  0.89505347  0.91550234\n",
            "  0.88948024  0.84865097  0.85933185  0.8696065   0.87930145  0.83202257\n",
            "  0.81521615  0.80549381  0.78890192  0.83535464  0.8522067   0.85559811\n",
            "  0.84899787  0.85432462  0.85027592  0.83032002  0.77867292  0.7861039\n",
            "  0.84624092  0.83543223  0.81528918  0.78119708  0.80784908  0.84463879\n",
            "  0.85294614  0.87303899  0.87009033  0.90477125  0.88857648  0.91421516\n",
            "  0.91612768  0.92003944  0.93190709  0.9263795   0.89903826  0.90862824\n",
            "  0.67498738  0.62300068  0.54277629  0.458217    0.38147235  0.31473529\n",
            "  0.25571719  0.2010324   0.1481515   0.09585692  0.04451681 -0.00424945\n",
            " -0.04864025 -0.08727881 -0.11898901 -0.14376365 -0.16168346 -0.172996\n",
            " -0.17801128 -0.17659602 -0.16853008 -0.15406144]\n",
            "22 day output [[-0.13378075]]\n",
            "23 day input [ 0.96344308  0.94761346  0.96950471  0.94640844  0.92782644  0.92416116\n",
            "  0.94076674  0.96567511  0.96744156  0.9758539   0.9611015   0.96161729\n",
            "  0.95703455  0.94495693  0.94856287  0.94255602  0.88081686  0.87988114\n",
            "  0.87489216  0.88922007  0.90239772  0.91728249  0.8943049   0.90028893\n",
            "  0.86837409  0.86254525  0.84295906  0.81178823  0.81434434  0.78114687\n",
            "  0.80401035  0.80292401  0.84097808  0.86296974  0.88287088  0.97560285\n",
            "  0.92643427  0.92977091  0.89254301  0.89505347  0.91550234  0.88948024\n",
            "  0.84865097  0.85933185  0.8696065   0.87930145  0.83202257  0.81521615\n",
            "  0.80549381  0.78890192  0.83535464  0.8522067   0.85559811  0.84899787\n",
            "  0.85432462  0.85027592  0.83032002  0.77867292  0.7861039   0.84624092\n",
            "  0.83543223  0.81528918  0.78119708  0.80784908  0.84463879  0.85294614\n",
            "  0.87303899  0.87009033  0.90477125  0.88857648  0.91421516  0.91612768\n",
            "  0.92003944  0.93190709  0.9263795   0.89903826  0.90862824  0.67498738\n",
            "  0.62300068  0.54277629  0.458217    0.38147235  0.31473529  0.25571719\n",
            "  0.2010324   0.1481515   0.09585692  0.04451681 -0.00424945 -0.04864025\n",
            " -0.08727881 -0.11898901 -0.14376365 -0.16168346 -0.172996   -0.17801128\n",
            " -0.17659602 -0.16853008 -0.15406144 -0.13378075]\n",
            "23 day output [[-0.10858528]]\n",
            "24 day input [ 0.94761346  0.96950471  0.94640844  0.92782644  0.92416116  0.94076674\n",
            "  0.96567511  0.96744156  0.9758539   0.9611015   0.96161729  0.95703455\n",
            "  0.94495693  0.94856287  0.94255602  0.88081686  0.87988114  0.87489216\n",
            "  0.88922007  0.90239772  0.91728249  0.8943049   0.90028893  0.86837409\n",
            "  0.86254525  0.84295906  0.81178823  0.81434434  0.78114687  0.80401035\n",
            "  0.80292401  0.84097808  0.86296974  0.88287088  0.97560285  0.92643427\n",
            "  0.92977091  0.89254301  0.89505347  0.91550234  0.88948024  0.84865097\n",
            "  0.85933185  0.8696065   0.87930145  0.83202257  0.81521615  0.80549381\n",
            "  0.78890192  0.83535464  0.8522067   0.85559811  0.84899787  0.85432462\n",
            "  0.85027592  0.83032002  0.77867292  0.7861039   0.84624092  0.83543223\n",
            "  0.81528918  0.78119708  0.80784908  0.84463879  0.85294614  0.87303899\n",
            "  0.87009033  0.90477125  0.88857648  0.91421516  0.91612768  0.92003944\n",
            "  0.93190709  0.9263795   0.89903826  0.90862824  0.67498738  0.62300068\n",
            "  0.54277629  0.458217    0.38147235  0.31473529  0.25571719  0.2010324\n",
            "  0.1481515   0.09585692  0.04451681 -0.00424945 -0.04864025 -0.08727881\n",
            " -0.11898901 -0.14376365 -0.16168346 -0.172996   -0.17801128 -0.17659602\n",
            " -0.16853008 -0.15406144 -0.13378075 -0.10858528]\n",
            "24 day output [[-0.07979292]]\n",
            "25 day input [ 0.96950471  0.94640844  0.92782644  0.92416116  0.94076674  0.96567511\n",
            "  0.96744156  0.9758539   0.9611015   0.96161729  0.95703455  0.94495693\n",
            "  0.94856287  0.94255602  0.88081686  0.87988114  0.87489216  0.88922007\n",
            "  0.90239772  0.91728249  0.8943049   0.90028893  0.86837409  0.86254525\n",
            "  0.84295906  0.81178823  0.81434434  0.78114687  0.80401035  0.80292401\n",
            "  0.84097808  0.86296974  0.88287088  0.97560285  0.92643427  0.92977091\n",
            "  0.89254301  0.89505347  0.91550234  0.88948024  0.84865097  0.85933185\n",
            "  0.8696065   0.87930145  0.83202257  0.81521615  0.80549381  0.78890192\n",
            "  0.83535464  0.8522067   0.85559811  0.84899787  0.85432462  0.85027592\n",
            "  0.83032002  0.77867292  0.7861039   0.84624092  0.83543223  0.81528918\n",
            "  0.78119708  0.80784908  0.84463879  0.85294614  0.87303899  0.87009033\n",
            "  0.90477125  0.88857648  0.91421516  0.91612768  0.92003944  0.93190709\n",
            "  0.9263795   0.89903826  0.90862824  0.67498738  0.62300068  0.54277629\n",
            "  0.458217    0.38147235  0.31473529  0.25571719  0.2010324   0.1481515\n",
            "  0.09585692  0.04451681 -0.00424945 -0.04864025 -0.08727881 -0.11898901\n",
            " -0.14376365 -0.16168346 -0.172996   -0.17801128 -0.17659602 -0.16853008\n",
            " -0.15406144 -0.13378075 -0.10858528 -0.07979292]\n",
            "25 day output [[-0.0486712]]\n",
            "26 day input [ 0.94640844  0.92782644  0.92416116  0.94076674  0.96567511  0.96744156\n",
            "  0.9758539   0.9611015   0.96161729  0.95703455  0.94495693  0.94856287\n",
            "  0.94255602  0.88081686  0.87988114  0.87489216  0.88922007  0.90239772\n",
            "  0.91728249  0.8943049   0.90028893  0.86837409  0.86254525  0.84295906\n",
            "  0.81178823  0.81434434  0.78114687  0.80401035  0.80292401  0.84097808\n",
            "  0.86296974  0.88287088  0.97560285  0.92643427  0.92977091  0.89254301\n",
            "  0.89505347  0.91550234  0.88948024  0.84865097  0.85933185  0.8696065\n",
            "  0.87930145  0.83202257  0.81521615  0.80549381  0.78890192  0.83535464\n",
            "  0.8522067   0.85559811  0.84899787  0.85432462  0.85027592  0.83032002\n",
            "  0.77867292  0.7861039   0.84624092  0.83543223  0.81528918  0.78119708\n",
            "  0.80784908  0.84463879  0.85294614  0.87303899  0.87009033  0.90477125\n",
            "  0.88857648  0.91421516  0.91612768  0.92003944  0.93190709  0.9263795\n",
            "  0.89903826  0.90862824  0.67498738  0.62300068  0.54277629  0.458217\n",
            "  0.38147235  0.31473529  0.25571719  0.2010324   0.1481515   0.09585692\n",
            "  0.04451681 -0.00424945 -0.04864025 -0.08727881 -0.11898901 -0.14376365\n",
            " -0.16168346 -0.172996   -0.17801128 -0.17659602 -0.16853008 -0.15406144\n",
            " -0.13378075 -0.10858528 -0.07979292 -0.0486712 ]\n",
            "26 day output [[-0.01631574]]\n",
            "27 day input [ 0.92782644  0.92416116  0.94076674  0.96567511  0.96744156  0.9758539\n",
            "  0.9611015   0.96161729  0.95703455  0.94495693  0.94856287  0.94255602\n",
            "  0.88081686  0.87988114  0.87489216  0.88922007  0.90239772  0.91728249\n",
            "  0.8943049   0.90028893  0.86837409  0.86254525  0.84295906  0.81178823\n",
            "  0.81434434  0.78114687  0.80401035  0.80292401  0.84097808  0.86296974\n",
            "  0.88287088  0.97560285  0.92643427  0.92977091  0.89254301  0.89505347\n",
            "  0.91550234  0.88948024  0.84865097  0.85933185  0.8696065   0.87930145\n",
            "  0.83202257  0.81521615  0.80549381  0.78890192  0.83535464  0.8522067\n",
            "  0.85559811  0.84899787  0.85432462  0.85027592  0.83032002  0.77867292\n",
            "  0.7861039   0.84624092  0.83543223  0.81528918  0.78119708  0.80784908\n",
            "  0.84463879  0.85294614  0.87303899  0.87009033  0.90477125  0.88857648\n",
            "  0.91421516  0.91612768  0.92003944  0.93190709  0.9263795   0.89903826\n",
            "  0.90862824  0.67498738  0.62300068  0.54277629  0.458217    0.38147235\n",
            "  0.31473529  0.25571719  0.2010324   0.1481515   0.09585692  0.04451681\n",
            " -0.00424945 -0.04864025 -0.08727881 -0.11898901 -0.14376365 -0.16168346\n",
            " -0.172996   -0.17801128 -0.17659602 -0.16853008 -0.15406144 -0.13378075\n",
            " -0.10858528 -0.07979292 -0.0486712  -0.01631574]\n",
            "27 day output [[0.01596378]]\n",
            "28 day input [ 0.92416116  0.94076674  0.96567511  0.96744156  0.9758539   0.9611015\n",
            "  0.96161729  0.95703455  0.94495693  0.94856287  0.94255602  0.88081686\n",
            "  0.87988114  0.87489216  0.88922007  0.90239772  0.91728249  0.8943049\n",
            "  0.90028893  0.86837409  0.86254525  0.84295906  0.81178823  0.81434434\n",
            "  0.78114687  0.80401035  0.80292401  0.84097808  0.86296974  0.88287088\n",
            "  0.97560285  0.92643427  0.92977091  0.89254301  0.89505347  0.91550234\n",
            "  0.88948024  0.84865097  0.85933185  0.8696065   0.87930145  0.83202257\n",
            "  0.81521615  0.80549381  0.78890192  0.83535464  0.8522067   0.85559811\n",
            "  0.84899787  0.85432462  0.85027592  0.83032002  0.77867292  0.7861039\n",
            "  0.84624092  0.83543223  0.81528918  0.78119708  0.80784908  0.84463879\n",
            "  0.85294614  0.87303899  0.87009033  0.90477125  0.88857648  0.91421516\n",
            "  0.91612768  0.92003944  0.93190709  0.9263795   0.89903826  0.90862824\n",
            "  0.67498738  0.62300068  0.54277629  0.458217    0.38147235  0.31473529\n",
            "  0.25571719  0.2010324   0.1481515   0.09585692  0.04451681 -0.00424945\n",
            " -0.04864025 -0.08727881 -0.11898901 -0.14376365 -0.16168346 -0.172996\n",
            " -0.17801128 -0.17659602 -0.16853008 -0.15406144 -0.13378075 -0.10858528\n",
            " -0.07979292 -0.0486712  -0.01631574  0.01596378]\n",
            "28 day output [[0.0472805]]\n",
            "29 day input [ 0.94076674  0.96567511  0.96744156  0.9758539   0.9611015   0.96161729\n",
            "  0.95703455  0.94495693  0.94856287  0.94255602  0.88081686  0.87988114\n",
            "  0.87489216  0.88922007  0.90239772  0.91728249  0.8943049   0.90028893\n",
            "  0.86837409  0.86254525  0.84295906  0.81178823  0.81434434  0.78114687\n",
            "  0.80401035  0.80292401  0.84097808  0.86296974  0.88287088  0.97560285\n",
            "  0.92643427  0.92977091  0.89254301  0.89505347  0.91550234  0.88948024\n",
            "  0.84865097  0.85933185  0.8696065   0.87930145  0.83202257  0.81521615\n",
            "  0.80549381  0.78890192  0.83535464  0.8522067   0.85559811  0.84899787\n",
            "  0.85432462  0.85027592  0.83032002  0.77867292  0.7861039   0.84624092\n",
            "  0.83543223  0.81528918  0.78119708  0.80784908  0.84463879  0.85294614\n",
            "  0.87303899  0.87009033  0.90477125  0.88857648  0.91421516  0.91612768\n",
            "  0.92003944  0.93190709  0.9263795   0.89903826  0.90862824  0.67498738\n",
            "  0.62300068  0.54277629  0.458217    0.38147235  0.31473529  0.25571719\n",
            "  0.2010324   0.1481515   0.09585692  0.04451681 -0.00424945 -0.04864025\n",
            " -0.08727881 -0.11898901 -0.14376365 -0.16168346 -0.172996   -0.17801128\n",
            " -0.17659602 -0.16853008 -0.15406144 -0.13378075 -0.10858528 -0.07979292\n",
            " -0.0486712  -0.01631574  0.01596378  0.0472805 ]\n",
            "29 day output [[0.07694134]]\n",
            "[[0.6749873757362366], [0.6230006814002991], [0.5427762866020203], [0.45821699500083923], [0.3814723491668701], [0.3147352933883667], [0.2557171881198883], [0.20103240013122559], [0.14815150201320648], [0.0958569198846817], [0.044516805559396744], [-0.004249454475939274], [-0.04864024743437767], [-0.087278813123703], [-0.1189890056848526], [-0.14376364648342133], [-0.16168345510959625], [-0.17299599945545197], [-0.17801128327846527], [-0.1765960156917572], [-0.16853007674217224], [-0.1540614366531372], [-0.13378074765205383], [-0.10858528316020966], [-0.07979291677474976], [-0.04867120459675789], [-0.016315743327140808], [0.015963781625032425], [0.04728050157427788], [0.0769413411617279]]\n"
          ]
        }
      ]
    },
    {
      "cell_type": "code",
      "source": [
        "day_new=np.arange(1,101)\n",
        "day_pred=np.arange(101,131)"
      ],
      "metadata": {
        "id": "V7-Voq9k2J5g"
      },
      "execution_count": 44,
      "outputs": []
    },
    {
      "cell_type": "code",
      "source": [
        "import matplotlib.pyplot as plt\n",
        "len(df1)"
      ],
      "metadata": {
        "colab": {
          "base_uri": "https://localhost:8080/"
        },
        "id": "y2xfwq892a9i",
        "outputId": "e748779a-6f79-4c5e-ce94-fe154b456e2a"
      },
      "execution_count": 45,
      "outputs": [
        {
          "output_type": "execute_result",
          "data": {
            "text/plain": [
              "1258"
            ]
          },
          "metadata": {},
          "execution_count": 45
        }
      ]
    },
    {
      "cell_type": "code",
      "source": [
        "plt.plot(day_new, scaler.inverse_transform(df1[1158:]))\n",
        "plt.plot(day_pred, scaler.inverse_transform(lst_output))"
      ],
      "metadata": {
        "colab": {
          "base_uri": "https://localhost:8080/",
          "height": 283
        },
        "id": "bzLxhfa-2h12",
        "outputId": "fa8afbdb-e8f9-40ff-a245-031772b856f4"
      },
      "execution_count": 46,
      "outputs": [
        {
          "output_type": "execute_result",
          "data": {
            "text/plain": [
              "[<matplotlib.lines.Line2D at 0x7f56b9d209d0>]"
            ]
          },
          "metadata": {},
          "execution_count": 46
        },
        {
          "output_type": "display_data",
          "data": {
            "text/plain": [
              "<Figure size 432x288 with 1 Axes>"
            ],
            "image/png": "[encoded data removed]"
          },
          "metadata": {
            "needs_background": "light"
          }
        }
      ]
    },
    {
      "cell_type": "code",
      "source": [
        "df3=df1.tolist()\n",
        "df3.extend(lst_output)\n",
        "plt.plot(df3[1200:])"
      ],
      "metadata": {
        "colab": {
          "base_uri": "https://localhost:8080/",
          "height": 283
        },
        "id": "d_DCPI0i2z8F",
        "outputId": "836ae4ed-3860-41df-d889-5215b17ee71d"
      },
      "execution_count": 48,
      "outputs": [
        {
          "output_type": "execute_result",
          "data": {
            "text/plain": [
              "[<matplotlib.lines.Line2D at 0x7f56b9c2c410>]"
            ]
          },
          "metadata": {},
          "execution_count": 48
        },
        {
          "output_type": "display_data",
          "data": {
            "text/plain": [
              "<Figure size 432x288 with 1 Axes>"
            ],
            "image/png": "[encoded data removed]"
          },
          "metadata": {
            "needs_background": "light"
          }
        }
      ]
    },
    {
      "cell_type": "code",
      "source": [
        "df3=scaler.inverse_transform(df3).tolist()"
      ],
      "metadata": {
        "id": "wytKLAPx3Glx"
      },
      "execution_count": 49,
      "outputs": []
    },
    {
      "cell_type": "code",
      "source": [
        "plt.plot(df3)"
      ],
      "metadata": {
        "colab": {
          "base_uri": "https://localhost:8080/",
          "height": 283
        },
        "id": "oH74CW413Q6R",
        "outputId": "da00b630-5c99-40f6-ab56-a2c5205b2189"
      },
      "execution_count": 50,
      "outputs": [
        {
          "output_type": "execute_result",
          "data": {
            "text/plain": [
              "[<matplotlib.lines.Line2D at 0x7f56b9d62190>]"
            ]
          },
          "metadata": {},
          "execution_count": 50
        },
        {
          "output_type": "display_data",
          "data": {
            "text/plain": [
              "<Figure size 432x288 with 1 Axes>"
            ],
            "image/png": "[encoded data removed]"
          },
          "metadata": {
            "needs_background": "light"
          }
        }
      ]
    },
    {
      "cell_type": "code",
      "source": [
        ""
      ],
      "metadata": {
        "id": "is32Va_Z3StJ"
      },
      "execution_count": null,
      "outputs": []
    }
  ]
}